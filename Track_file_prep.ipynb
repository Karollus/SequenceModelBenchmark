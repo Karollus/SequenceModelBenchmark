{
 "cells": [
  {
   "cell_type": "markdown",
   "id": "6c558bbb-1088-4db6-83ea-9a432b6aeff6",
   "metadata": {},
   "source": [
    "# Track File Construction"
   ]
  },
  {
   "cell_type": "markdown",
   "id": "eabe00a3-ff9f-412b-925b-6bade57d8f31",
   "metadata": {},
   "source": [
    "## Setup"
   ]
  },
  {
   "cell_type": "code",
   "execution_count": 1,
   "id": "e36de6ea-761c-43a4-90df-e0c95548828f",
   "metadata": {},
   "outputs": [],
   "source": [
    "import pandas as pd"
   ]
  },
  {
   "cell_type": "code",
   "execution_count": 2,
   "id": "ff096579-848b-4c49-a109-735a537b26de",
   "metadata": {},
   "outputs": [],
   "source": [
    "def dedupe_tracks(dataset_tracks):\n",
    "    dataset_dupes = dataset_tracks[\"description\"].duplicated(keep=False)\n",
    "    assert dataset_dupes.sum() > 0\n",
    "    dataset_dupe_descs = dataset_tracks[dataset_dupes][\"description\"].unique()\n",
    "    for dupe_desc in dataset_dupe_descs:\n",
    "        duped_idxs = dataset_tracks[dataset_tracks[\"description\"] == dupe_desc].index\n",
    "        i = 1\n",
    "        for idx in duped_idxs:\n",
    "            prev = dataset_tracks.at[idx, \"description\"]\n",
    "            dataset_tracks.at[idx, \"description\"] = prev + \"_\" + str(i)\n",
    "            i += 1\n",
    "    assert dataset_tracks[\"description\"].duplicated(keep=False).sum() == 0"
   ]
  },
  {
   "cell_type": "markdown",
   "id": "4e6ab343-d9ee-4aa8-b9f0-4face50016cf",
   "metadata": {},
   "source": [
    "### Enformer and Basenji2 Data"
   ]
  },
  {
   "cell_type": "code",
   "execution_count": 35,
   "id": "38eb324f-61c8-4262-a574-228ed9b311ba",
   "metadata": {
    "colab": {
     "base_uri": "https://localhost:8080/",
     "height": 240
    },
    "id": "OlE6JAVfI08a",
    "outputId": "61f72dd8-e5f5-4764-d765-b6cbd47f6e90"
   },
   "outputs": [
    {
     "data": {
      "text/html": [
       "<div>\n",
       "<style scoped>\n",
       "    .dataframe tbody tr th:only-of-type {\n",
       "        vertical-align: middle;\n",
       "    }\n",
       "\n",
       "    .dataframe tbody tr th {\n",
       "        vertical-align: top;\n",
       "    }\n",
       "\n",
       "    .dataframe thead th {\n",
       "        text-align: right;\n",
       "    }\n",
       "</style>\n",
       "<table border=\"1\" class=\"dataframe\">\n",
       "  <thead>\n",
       "    <tr style=\"text-align: right;\">\n",
       "      <th></th>\n",
       "      <th>index</th>\n",
       "      <th>genome</th>\n",
       "      <th>identifier</th>\n",
       "      <th>file</th>\n",
       "      <th>clip</th>\n",
       "      <th>scale</th>\n",
       "      <th>sum_stat</th>\n",
       "      <th>description</th>\n",
       "    </tr>\n",
       "  </thead>\n",
       "  <tbody>\n",
       "    <tr>\n",
       "      <th>0</th>\n",
       "      <td>0</td>\n",
       "      <td>0</td>\n",
       "      <td>ENCFF833POA</td>\n",
       "      <td>/home/drk/tillage/datasets/human/dnase/encode/...</td>\n",
       "      <td>32</td>\n",
       "      <td>2</td>\n",
       "      <td>mean</td>\n",
       "      <td>DNASE:cerebellum male adult (27 years) and mal...</td>\n",
       "    </tr>\n",
       "    <tr>\n",
       "      <th>1</th>\n",
       "      <td>1</td>\n",
       "      <td>0</td>\n",
       "      <td>ENCFF110QGM</td>\n",
       "      <td>/home/drk/tillage/datasets/human/dnase/encode/...</td>\n",
       "      <td>32</td>\n",
       "      <td>2</td>\n",
       "      <td>mean</td>\n",
       "      <td>DNASE:frontal cortex male adult (27 years) and...</td>\n",
       "    </tr>\n",
       "    <tr>\n",
       "      <th>2</th>\n",
       "      <td>2</td>\n",
       "      <td>0</td>\n",
       "      <td>ENCFF880MKD</td>\n",
       "      <td>/home/drk/tillage/datasets/human/dnase/encode/...</td>\n",
       "      <td>32</td>\n",
       "      <td>2</td>\n",
       "      <td>mean</td>\n",
       "      <td>DNASE:chorion</td>\n",
       "    </tr>\n",
       "    <tr>\n",
       "      <th>3</th>\n",
       "      <td>3</td>\n",
       "      <td>0</td>\n",
       "      <td>ENCFF463ZLQ</td>\n",
       "      <td>/home/drk/tillage/datasets/human/dnase/encode/...</td>\n",
       "      <td>32</td>\n",
       "      <td>2</td>\n",
       "      <td>mean</td>\n",
       "      <td>DNASE:Ishikawa treated with 0.02% dimethyl sul...</td>\n",
       "    </tr>\n",
       "    <tr>\n",
       "      <th>4</th>\n",
       "      <td>4</td>\n",
       "      <td>0</td>\n",
       "      <td>ENCFF890OGQ</td>\n",
       "      <td>/home/drk/tillage/datasets/human/dnase/encode/...</td>\n",
       "      <td>32</td>\n",
       "      <td>2</td>\n",
       "      <td>mean</td>\n",
       "      <td>DNASE:GM03348</td>\n",
       "    </tr>\n",
       "    <tr>\n",
       "      <th>...</th>\n",
       "      <td>...</td>\n",
       "      <td>...</td>\n",
       "      <td>...</td>\n",
       "      <td>...</td>\n",
       "      <td>...</td>\n",
       "      <td>...</td>\n",
       "      <td>...</td>\n",
       "      <td>...</td>\n",
       "    </tr>\n",
       "    <tr>\n",
       "      <th>5308</th>\n",
       "      <td>5308</td>\n",
       "      <td>0</td>\n",
       "      <td>CNhs14239</td>\n",
       "      <td>/home/drk/tillage/datasets/human/cage/fantom/C...</td>\n",
       "      <td>384</td>\n",
       "      <td>1</td>\n",
       "      <td>sum</td>\n",
       "      <td>CAGE:epithelioid sarcoma cell line:HS-ES-2R</td>\n",
       "    </tr>\n",
       "    <tr>\n",
       "      <th>5309</th>\n",
       "      <td>5309</td>\n",
       "      <td>0</td>\n",
       "      <td>CNhs14240</td>\n",
       "      <td>/home/drk/tillage/datasets/human/cage/fantom/C...</td>\n",
       "      <td>384</td>\n",
       "      <td>1</td>\n",
       "      <td>sum</td>\n",
       "      <td>CAGE:squamous cell lung carcinoma cell line:RE...</td>\n",
       "    </tr>\n",
       "    <tr>\n",
       "      <th>5310</th>\n",
       "      <td>5310</td>\n",
       "      <td>0</td>\n",
       "      <td>CNhs14241</td>\n",
       "      <td>/home/drk/tillage/datasets/human/cage/fantom/C...</td>\n",
       "      <td>384</td>\n",
       "      <td>1</td>\n",
       "      <td>sum</td>\n",
       "      <td>CAGE:gastric cancer cell line:GSS</td>\n",
       "    </tr>\n",
       "    <tr>\n",
       "      <th>5311</th>\n",
       "      <td>5311</td>\n",
       "      <td>0</td>\n",
       "      <td>CNhs14244</td>\n",
       "      <td>/home/drk/tillage/datasets/human/cage/fantom/C...</td>\n",
       "      <td>384</td>\n",
       "      <td>1</td>\n",
       "      <td>sum</td>\n",
       "      <td>CAGE:carcinoid cell line:NCI-H727</td>\n",
       "    </tr>\n",
       "    <tr>\n",
       "      <th>5312</th>\n",
       "      <td>5312</td>\n",
       "      <td>0</td>\n",
       "      <td>CNhs14245</td>\n",
       "      <td>/home/drk/tillage/datasets/human/cage/fantom/C...</td>\n",
       "      <td>384</td>\n",
       "      <td>1</td>\n",
       "      <td>sum</td>\n",
       "      <td>CAGE:lung adenocarcinoma, papillary cell line:...</td>\n",
       "    </tr>\n",
       "  </tbody>\n",
       "</table>\n",
       "<p>5313 rows × 8 columns</p>\n",
       "</div>"
      ],
      "text/plain": [
       "      index  genome   identifier  \\\n",
       "0         0       0  ENCFF833POA   \n",
       "1         1       0  ENCFF110QGM   \n",
       "2         2       0  ENCFF880MKD   \n",
       "3         3       0  ENCFF463ZLQ   \n",
       "4         4       0  ENCFF890OGQ   \n",
       "...     ...     ...          ...   \n",
       "5308   5308       0    CNhs14239   \n",
       "5309   5309       0    CNhs14240   \n",
       "5310   5310       0    CNhs14241   \n",
       "5311   5311       0    CNhs14244   \n",
       "5312   5312       0    CNhs14245   \n",
       "\n",
       "                                                   file  clip  scale sum_stat  \\\n",
       "0     /home/drk/tillage/datasets/human/dnase/encode/...    32      2     mean   \n",
       "1     /home/drk/tillage/datasets/human/dnase/encode/...    32      2     mean   \n",
       "2     /home/drk/tillage/datasets/human/dnase/encode/...    32      2     mean   \n",
       "3     /home/drk/tillage/datasets/human/dnase/encode/...    32      2     mean   \n",
       "4     /home/drk/tillage/datasets/human/dnase/encode/...    32      2     mean   \n",
       "...                                                 ...   ...    ...      ...   \n",
       "5308  /home/drk/tillage/datasets/human/cage/fantom/C...   384      1      sum   \n",
       "5309  /home/drk/tillage/datasets/human/cage/fantom/C...   384      1      sum   \n",
       "5310  /home/drk/tillage/datasets/human/cage/fantom/C...   384      1      sum   \n",
       "5311  /home/drk/tillage/datasets/human/cage/fantom/C...   384      1      sum   \n",
       "5312  /home/drk/tillage/datasets/human/cage/fantom/C...   384      1      sum   \n",
       "\n",
       "                                            description  \n",
       "0     DNASE:cerebellum male adult (27 years) and mal...  \n",
       "1     DNASE:frontal cortex male adult (27 years) and...  \n",
       "2                                         DNASE:chorion  \n",
       "3     DNASE:Ishikawa treated with 0.02% dimethyl sul...  \n",
       "4                                         DNASE:GM03348  \n",
       "...                                                 ...  \n",
       "5308        CAGE:epithelioid sarcoma cell line:HS-ES-2R  \n",
       "5309  CAGE:squamous cell lung carcinoma cell line:RE...  \n",
       "5310                  CAGE:gastric cancer cell line:GSS  \n",
       "5311                  CAGE:carcinoid cell line:NCI-H727  \n",
       "5312  CAGE:lung adenocarcinoma, papillary cell line:...  \n",
       "\n",
       "[5313 rows x 8 columns]"
      ]
     },
     "execution_count": 35,
     "metadata": {},
     "output_type": "execute_result"
    }
   ],
   "source": [
    "# Download targets from Basenji2 dataset \n",
    "# Cite: Kelley et al Cross-species regulatory sequence activity prediction. PLoS Comput. Biol. 16, e1008050 (2020).\n",
    "targets_txt = 'https://raw.githubusercontent.com/calico/basenji/master/manuscripts/cross2020/targets_human.txt'\n",
    "target_df = pd.read_csv(targets_txt, sep='\\t')\n",
    "target_df"
   ]
  },
  {
   "cell_type": "markdown",
   "id": "5d548e34-25c5-4281-818b-bc56aedc4747",
   "metadata": {},
   "source": [
    "### Basenji1 Data"
   ]
  },
  {
   "cell_type": "code",
   "execution_count": 18,
   "id": "24ce9bd2-c20a-4522-97fd-a9768d1f468e",
   "metadata": {},
   "outputs": [
    {
     "data": {
      "text/html": [
       "<div>\n",
       "<style scoped>\n",
       "    .dataframe tbody tr th:only-of-type {\n",
       "        vertical-align: middle;\n",
       "    }\n",
       "\n",
       "    .dataframe tbody tr th {\n",
       "        vertical-align: top;\n",
       "    }\n",
       "\n",
       "    .dataframe thead th {\n",
       "        text-align: right;\n",
       "    }\n",
       "</style>\n",
       "<table border=\"1\" class=\"dataframe\">\n",
       "  <thead>\n",
       "    <tr style=\"text-align: right;\">\n",
       "      <th></th>\n",
       "      <th>index</th>\n",
       "      <th>id</th>\n",
       "      <th>path</th>\n",
       "      <th>description</th>\n",
       "    </tr>\n",
       "  </thead>\n",
       "  <tbody>\n",
       "    <tr>\n",
       "      <th>0</th>\n",
       "      <td>0</td>\n",
       "      <td>ENCSR000EQH_1_1</td>\n",
       "      <td>../../data/human/dnase/encode_fastq/covse/ENCS...</td>\n",
       "      <td>DNASE:T-helper 2 cell female adult (26 years)</td>\n",
       "    </tr>\n",
       "    <tr>\n",
       "      <th>1</th>\n",
       "      <td>1</td>\n",
       "      <td>ENCSR000EKJ_1_1</td>\n",
       "      <td>../../data/human/dnase/encode_fastq/covse/ENCS...</td>\n",
       "      <td>DNASE:induced pluripotent stem cell male adult...</td>\n",
       "    </tr>\n",
       "    <tr>\n",
       "      <th>2</th>\n",
       "      <td>2</td>\n",
       "      <td>ENCSR000EOM_2_1</td>\n",
       "      <td>../../data/human/dnase/encode_fastq/covse/ENCS...</td>\n",
       "      <td>DNASE:glomerular endothelial cell</td>\n",
       "    </tr>\n",
       "    <tr>\n",
       "      <th>3</th>\n",
       "      <td>3</td>\n",
       "      <td>ENCSR257BGZ_2_2</td>\n",
       "      <td>../../data/human/dnase/encode_fastq/covpe/ENCS...</td>\n",
       "      <td>DNASE:ACHN</td>\n",
       "    </tr>\n",
       "    <tr>\n",
       "      <th>4</th>\n",
       "      <td>4</td>\n",
       "      <td>ENCSR937UWI_2_2</td>\n",
       "      <td>../../data/human/dnase/encode_fastq/covpe/ENCS...</td>\n",
       "      <td>DNASE:hematopoietic multipotent progenitor cel...</td>\n",
       "    </tr>\n",
       "    <tr>\n",
       "      <th>...</th>\n",
       "      <td>...</td>\n",
       "      <td>...</td>\n",
       "      <td>...</td>\n",
       "      <td>...</td>\n",
       "    </tr>\n",
       "    <tr>\n",
       "      <th>4224</th>\n",
       "      <td>4224</td>\n",
       "      <td>CNhs13818</td>\n",
       "      <td>../../data/human/cage/fantom/coverage/CNhs1381...</td>\n",
       "      <td>CAGE:Olfactory epithelial cells, donor3</td>\n",
       "    </tr>\n",
       "    <tr>\n",
       "      <th>4225</th>\n",
       "      <td>4225</td>\n",
       "      <td>CNhs13819</td>\n",
       "      <td>../../data/human/cage/fantom/coverage/CNhs1381...</td>\n",
       "      <td>CAGE:Olfactory epithelial cells, donor4</td>\n",
       "    </tr>\n",
       "    <tr>\n",
       "      <th>4226</th>\n",
       "      <td>4226</td>\n",
       "      <td>CNhs11250</td>\n",
       "      <td>../../data/human/cage/fantom/coverage/CNhs1125...</td>\n",
       "      <td>CAGE:chronic myelogenous leukemia cell line:K562</td>\n",
       "    </tr>\n",
       "    <tr>\n",
       "      <th>4227</th>\n",
       "      <td>4227</td>\n",
       "      <td>CNhs10843</td>\n",
       "      <td>../../data/human/cage/fantom/coverage/CNhs1084...</td>\n",
       "      <td>CAGE:Urothelial cells, donor0</td>\n",
       "    </tr>\n",
       "    <tr>\n",
       "      <th>4228</th>\n",
       "      <td>4228</td>\n",
       "      <td>CNhs12844</td>\n",
       "      <td>../../data/human/cage/fantom/coverage/CNhs1284...</td>\n",
       "      <td>CAGE:vein, adult</td>\n",
       "    </tr>\n",
       "  </tbody>\n",
       "</table>\n",
       "<p>4229 rows × 4 columns</p>\n",
       "</div>"
      ],
      "text/plain": [
       "      index               id  \\\n",
       "0         0  ENCSR000EQH_1_1   \n",
       "1         1  ENCSR000EKJ_1_1   \n",
       "2         2  ENCSR000EOM_2_1   \n",
       "3         3  ENCSR257BGZ_2_2   \n",
       "4         4  ENCSR937UWI_2_2   \n",
       "...     ...              ...   \n",
       "4224   4224        CNhs13818   \n",
       "4225   4225        CNhs13819   \n",
       "4226   4226        CNhs11250   \n",
       "4227   4227        CNhs10843   \n",
       "4228   4228        CNhs12844   \n",
       "\n",
       "                                                   path  \\\n",
       "0     ../../data/human/dnase/encode_fastq/covse/ENCS...   \n",
       "1     ../../data/human/dnase/encode_fastq/covse/ENCS...   \n",
       "2     ../../data/human/dnase/encode_fastq/covse/ENCS...   \n",
       "3     ../../data/human/dnase/encode_fastq/covpe/ENCS...   \n",
       "4     ../../data/human/dnase/encode_fastq/covpe/ENCS...   \n",
       "...                                                 ...   \n",
       "4224  ../../data/human/cage/fantom/coverage/CNhs1381...   \n",
       "4225  ../../data/human/cage/fantom/coverage/CNhs1381...   \n",
       "4226  ../../data/human/cage/fantom/coverage/CNhs1125...   \n",
       "4227  ../../data/human/cage/fantom/coverage/CNhs1084...   \n",
       "4228  ../../data/human/cage/fantom/coverage/CNhs1284...   \n",
       "\n",
       "                                            description  \n",
       "0         DNASE:T-helper 2 cell female adult (26 years)  \n",
       "1     DNASE:induced pluripotent stem cell male adult...  \n",
       "2                     DNASE:glomerular endothelial cell  \n",
       "3                                            DNASE:ACHN  \n",
       "4     DNASE:hematopoietic multipotent progenitor cel...  \n",
       "...                                                 ...  \n",
       "4224            CAGE:Olfactory epithelial cells, donor3  \n",
       "4225            CAGE:Olfactory epithelial cells, donor4  \n",
       "4226   CAGE:chronic myelogenous leukemia cell line:K562  \n",
       "4227                      CAGE:Urothelial cells, donor0  \n",
       "4228                                   CAGE:vein, adult  \n",
       "\n",
       "[4229 rows x 4 columns]"
      ]
     },
     "execution_count": 18,
     "metadata": {},
     "output_type": "execute_result"
    }
   ],
   "source": [
    "b1_target_df = pd.read_csv(\"Models/Basenji/basenji1_targets.txt\", sep=\"\\t\", \n",
    "                           header=None, names=[\"id\", \"path\", \"description\"]).reset_index()\n",
    "b1_target_df"
   ]
  },
  {
   "cell_type": "markdown",
   "id": "922ddc6f-47a0-48c7-9813-eabf0fa1ebf2",
   "metadata": {},
   "source": [
    "## Weiss Tracks"
   ]
  },
  {
   "cell_type": "markdown",
   "id": "ccbbb38d-cf90-4db7-87e0-82a94f474f30",
   "metadata": {},
   "source": [
    "Tracks for `weiss_ingenome` and `weiss_constructs`."
   ]
  },
  {
   "cell_type": "code",
   "execution_count": 3,
   "id": "c18b631e-0c99-4341-a8da-2d97e00627ab",
   "metadata": {},
   "outputs": [
    {
     "data": {
      "text/html": [
       "<div>\n",
       "<style scoped>\n",
       "    .dataframe tbody tr th:only-of-type {\n",
       "        vertical-align: middle;\n",
       "    }\n",
       "\n",
       "    .dataframe tbody tr th {\n",
       "        vertical-align: top;\n",
       "    }\n",
       "\n",
       "    .dataframe thead th {\n",
       "        text-align: right;\n",
       "    }\n",
       "</style>\n",
       "<table border=\"1\" class=\"dataframe\">\n",
       "  <thead>\n",
       "    <tr style=\"text-align: right;\">\n",
       "      <th></th>\n",
       "      <th>description</th>\n",
       "      <th>index</th>\n",
       "    </tr>\n",
       "  </thead>\n",
       "  <tbody>\n",
       "    <tr>\n",
       "      <th>43</th>\n",
       "      <td>DNASE:osteoblast</td>\n",
       "      <td>43</td>\n",
       "    </tr>\n",
       "    <tr>\n",
       "      <th>485</th>\n",
       "      <td>DNASE:bipolar neuron originated from GM23338 t...</td>\n",
       "      <td>485</td>\n",
       "    </tr>\n",
       "    <tr>\n",
       "      <th>763</th>\n",
       "      <td>CHIP:H2AFZ:osteoblast</td>\n",
       "      <td>763</td>\n",
       "    </tr>\n",
       "    <tr>\n",
       "      <th>764</th>\n",
       "      <td>CHIP:H3K27ac:osteoblast</td>\n",
       "      <td>764</td>\n",
       "    </tr>\n",
       "    <tr>\n",
       "      <th>765</th>\n",
       "      <td>CHIP:H3K36me3:osteoblast</td>\n",
       "      <td>765</td>\n",
       "    </tr>\n",
       "    <tr>\n",
       "      <th>766</th>\n",
       "      <td>CHIP:H3K4me1:osteoblast</td>\n",
       "      <td>766</td>\n",
       "    </tr>\n",
       "    <tr>\n",
       "      <th>767</th>\n",
       "      <td>CHIP:H3K4me2:osteoblast</td>\n",
       "      <td>767</td>\n",
       "    </tr>\n",
       "    <tr>\n",
       "      <th>768</th>\n",
       "      <td>CHIP:H3K9me3:osteoblast</td>\n",
       "      <td>768</td>\n",
       "    </tr>\n",
       "    <tr>\n",
       "      <th>785</th>\n",
       "      <td>CHIP:H3K27me3:osteoblast</td>\n",
       "      <td>785</td>\n",
       "    </tr>\n",
       "    <tr>\n",
       "      <th>786</th>\n",
       "      <td>CHIP:H4K20me1:osteoblast</td>\n",
       "      <td>786</td>\n",
       "    </tr>\n",
       "    <tr>\n",
       "      <th>815</th>\n",
       "      <td>CHIP:H3K79me2:osteoblast</td>\n",
       "      <td>815</td>\n",
       "    </tr>\n",
       "    <tr>\n",
       "      <th>832</th>\n",
       "      <td>CHIP:H3K4me3:osteoblast</td>\n",
       "      <td>832</td>\n",
       "    </tr>\n",
       "    <tr>\n",
       "      <th>1444</th>\n",
       "      <td>CHIP:H3K9me3:neuron originated from H9</td>\n",
       "      <td>1444</td>\n",
       "    </tr>\n",
       "    <tr>\n",
       "      <th>1644</th>\n",
       "      <td>CHIP:CTCF:bipolar neuron originated from GM233...</td>\n",
       "      <td>1644</td>\n",
       "    </tr>\n",
       "    <tr>\n",
       "      <th>1998</th>\n",
       "      <td>CHIP:H3K9me2:bipolar neuron originated from GM...</td>\n",
       "      <td>1998</td>\n",
       "    </tr>\n",
       "    <tr>\n",
       "      <th>2223</th>\n",
       "      <td>CHIP:H3K9me3:bipolar neuron originated from GM...</td>\n",
       "      <td>2223</td>\n",
       "    </tr>\n",
       "    <tr>\n",
       "      <th>2375</th>\n",
       "      <td>CHIP:H3K4me1:bipolar neuron originated from GM...</td>\n",
       "      <td>2375</td>\n",
       "    </tr>\n",
       "    <tr>\n",
       "      <th>2409</th>\n",
       "      <td>CHIP:H3K4me3:neuron originated from H9</td>\n",
       "      <td>2409</td>\n",
       "    </tr>\n",
       "    <tr>\n",
       "      <th>2592</th>\n",
       "      <td>CHIP:H3K36me3:bipolar neuron originated from G...</td>\n",
       "      <td>2592</td>\n",
       "    </tr>\n",
       "    <tr>\n",
       "      <th>2721</th>\n",
       "      <td>CHIP:ZEB1:bipolar neuron originated from GM233...</td>\n",
       "      <td>2721</td>\n",
       "    </tr>\n",
       "    <tr>\n",
       "      <th>2896</th>\n",
       "      <td>CHIP:H3K27me3:bipolar neuron originated from G...</td>\n",
       "      <td>2896</td>\n",
       "    </tr>\n",
       "    <tr>\n",
       "      <th>2938</th>\n",
       "      <td>CHIP:H3K79me2:bipolar neuron originated from G...</td>\n",
       "      <td>2938</td>\n",
       "    </tr>\n",
       "    <tr>\n",
       "      <th>2951</th>\n",
       "      <td>CHIP:H3K36me3:neuron originated from H9</td>\n",
       "      <td>2951</td>\n",
       "    </tr>\n",
       "    <tr>\n",
       "      <th>3282</th>\n",
       "      <td>CHIP:H3K9ac:bipolar neuron originated from GM2...</td>\n",
       "      <td>3282</td>\n",
       "    </tr>\n",
       "    <tr>\n",
       "      <th>3358</th>\n",
       "      <td>CHIP:CTCF:bipolar neuron originated from GM233...</td>\n",
       "      <td>3358</td>\n",
       "    </tr>\n",
       "    <tr>\n",
       "      <th>3559</th>\n",
       "      <td>CHIP:H3F3A:bipolar neuron originated from GM23...</td>\n",
       "      <td>3559</td>\n",
       "    </tr>\n",
       "    <tr>\n",
       "      <th>3566</th>\n",
       "      <td>CHIP:H3K27me3:neuron originated from H9</td>\n",
       "      <td>3566</td>\n",
       "    </tr>\n",
       "    <tr>\n",
       "      <th>3971</th>\n",
       "      <td>CHIP:H3K4me1:neuron originated from H9</td>\n",
       "      <td>3971</td>\n",
       "    </tr>\n",
       "    <tr>\n",
       "      <th>3988</th>\n",
       "      <td>CHIP:H4K20me1:bipolar neuron originated from G...</td>\n",
       "      <td>3988</td>\n",
       "    </tr>\n",
       "    <tr>\n",
       "      <th>3989</th>\n",
       "      <td>CHIP:H3K4me2:bipolar neuron originated from GM...</td>\n",
       "      <td>3989</td>\n",
       "    </tr>\n",
       "    <tr>\n",
       "      <th>4041</th>\n",
       "      <td>CHIP:SMARCA4:bipolar neuron originated from GM...</td>\n",
       "      <td>4041</td>\n",
       "    </tr>\n",
       "    <tr>\n",
       "      <th>4071</th>\n",
       "      <td>CHIP:H3K4me3:bipolar neuron originated from GM...</td>\n",
       "      <td>4071</td>\n",
       "    </tr>\n",
       "    <tr>\n",
       "      <th>4175</th>\n",
       "      <td>CHIP:EZH2phosphoT487:bipolar neuron originated...</td>\n",
       "      <td>4175</td>\n",
       "    </tr>\n",
       "    <tr>\n",
       "      <th>4188</th>\n",
       "      <td>CHIP:POLR2AphosphoS5:bipolar neuron originated...</td>\n",
       "      <td>4188</td>\n",
       "    </tr>\n",
       "    <tr>\n",
       "      <th>4245</th>\n",
       "      <td>CHIP:H3K27ac:bipolar neuron originated from GM...</td>\n",
       "      <td>4245</td>\n",
       "    </tr>\n",
       "    <tr>\n",
       "      <th>4316</th>\n",
       "      <td>CHIP:H2AFZ:neuron originated from H9</td>\n",
       "      <td>4316</td>\n",
       "    </tr>\n",
       "    <tr>\n",
       "      <th>4464</th>\n",
       "      <td>CHIP:H2AFZ:bipolar neuron originated from GM23...</td>\n",
       "      <td>4464</td>\n",
       "    </tr>\n",
       "    <tr>\n",
       "      <th>4808</th>\n",
       "      <td>CAGE:Osteoblast,</td>\n",
       "      <td>4808</td>\n",
       "    </tr>\n",
       "    <tr>\n",
       "      <th>4868</th>\n",
       "      <td>CAGE:Osteoblast - differentiated,</td>\n",
       "      <td>4868</td>\n",
       "    </tr>\n",
       "    <tr>\n",
       "      <th>5112</th>\n",
       "      <td>CAGE:Neurons,</td>\n",
       "      <td>5112</td>\n",
       "    </tr>\n",
       "  </tbody>\n",
       "</table>\n",
       "</div>"
      ],
      "text/plain": [
       "                                            description  index\n",
       "43                                     DNASE:osteoblast     43\n",
       "485   DNASE:bipolar neuron originated from GM23338 t...    485\n",
       "763                               CHIP:H2AFZ:osteoblast    763\n",
       "764                             CHIP:H3K27ac:osteoblast    764\n",
       "765                            CHIP:H3K36me3:osteoblast    765\n",
       "766                             CHIP:H3K4me1:osteoblast    766\n",
       "767                             CHIP:H3K4me2:osteoblast    767\n",
       "768                             CHIP:H3K9me3:osteoblast    768\n",
       "785                            CHIP:H3K27me3:osteoblast    785\n",
       "786                            CHIP:H4K20me1:osteoblast    786\n",
       "815                            CHIP:H3K79me2:osteoblast    815\n",
       "832                             CHIP:H3K4me3:osteoblast    832\n",
       "1444             CHIP:H3K9me3:neuron originated from H9   1444\n",
       "1644  CHIP:CTCF:bipolar neuron originated from GM233...   1644\n",
       "1998  CHIP:H3K9me2:bipolar neuron originated from GM...   1998\n",
       "2223  CHIP:H3K9me3:bipolar neuron originated from GM...   2223\n",
       "2375  CHIP:H3K4me1:bipolar neuron originated from GM...   2375\n",
       "2409             CHIP:H3K4me3:neuron originated from H9   2409\n",
       "2592  CHIP:H3K36me3:bipolar neuron originated from G...   2592\n",
       "2721  CHIP:ZEB1:bipolar neuron originated from GM233...   2721\n",
       "2896  CHIP:H3K27me3:bipolar neuron originated from G...   2896\n",
       "2938  CHIP:H3K79me2:bipolar neuron originated from G...   2938\n",
       "2951            CHIP:H3K36me3:neuron originated from H9   2951\n",
       "3282  CHIP:H3K9ac:bipolar neuron originated from GM2...   3282\n",
       "3358  CHIP:CTCF:bipolar neuron originated from GM233...   3358\n",
       "3559  CHIP:H3F3A:bipolar neuron originated from GM23...   3559\n",
       "3566            CHIP:H3K27me3:neuron originated from H9   3566\n",
       "3971             CHIP:H3K4me1:neuron originated from H9   3971\n",
       "3988  CHIP:H4K20me1:bipolar neuron originated from G...   3988\n",
       "3989  CHIP:H3K4me2:bipolar neuron originated from GM...   3989\n",
       "4041  CHIP:SMARCA4:bipolar neuron originated from GM...   4041\n",
       "4071  CHIP:H3K4me3:bipolar neuron originated from GM...   4071\n",
       "4175  CHIP:EZH2phosphoT487:bipolar neuron originated...   4175\n",
       "4188  CHIP:POLR2AphosphoS5:bipolar neuron originated...   4188\n",
       "4245  CHIP:H3K27ac:bipolar neuron originated from GM...   4245\n",
       "4316               CHIP:H2AFZ:neuron originated from H9   4316\n",
       "4464  CHIP:H2AFZ:bipolar neuron originated from GM23...   4464\n",
       "4808                                   CAGE:Osteoblast,   4808\n",
       "4868                  CAGE:Osteoblast - differentiated,   4868\n",
       "5112                                      CAGE:Neurons,   5112"
      ]
     },
     "execution_count": 3,
     "metadata": {},
     "output_type": "execute_result"
    }
   ],
   "source": [
    "weiss_tracks = target_df.loc[\n",
    "    target_df.description.str.contains(\"osteoblast\", case=False) \n",
    "    | target_df.description.str.contains(\"neuron\", case=False)\n",
    "][[\"description\", \"index\"]]\n",
    "weiss_tracks"
   ]
  },
  {
   "cell_type": "code",
   "execution_count": 4,
   "id": "e7feef95-28d9-4ffc-abbd-c64fdbc18bb2",
   "metadata": {},
   "outputs": [
    {
     "data": {
      "text/html": [
       "<div>\n",
       "<style scoped>\n",
       "    .dataframe tbody tr th:only-of-type {\n",
       "        vertical-align: middle;\n",
       "    }\n",
       "\n",
       "    .dataframe tbody tr th {\n",
       "        vertical-align: top;\n",
       "    }\n",
       "\n",
       "    .dataframe thead th {\n",
       "        text-align: right;\n",
       "    }\n",
       "</style>\n",
       "<table border=\"1\" class=\"dataframe\">\n",
       "  <thead>\n",
       "    <tr style=\"text-align: right;\">\n",
       "      <th></th>\n",
       "      <th>description</th>\n",
       "      <th>index</th>\n",
       "    </tr>\n",
       "  </thead>\n",
       "  <tbody>\n",
       "    <tr>\n",
       "      <th>1644</th>\n",
       "      <td>CHIP:CTCF:bipolar neuron originated from GM233...</td>\n",
       "      <td>1644</td>\n",
       "    </tr>\n",
       "    <tr>\n",
       "      <th>3358</th>\n",
       "      <td>CHIP:CTCF:bipolar neuron originated from GM233...</td>\n",
       "      <td>3358</td>\n",
       "    </tr>\n",
       "  </tbody>\n",
       "</table>\n",
       "</div>"
      ],
      "text/plain": [
       "                                            description  index\n",
       "1644  CHIP:CTCF:bipolar neuron originated from GM233...   1644\n",
       "3358  CHIP:CTCF:bipolar neuron originated from GM233...   3358"
      ]
     },
     "execution_count": 4,
     "metadata": {},
     "output_type": "execute_result"
    }
   ],
   "source": [
    "weiss_dupes = weiss_tracks[\"description\"].duplicated(keep=False)\n",
    "weiss_tracks[weiss_dupes]"
   ]
  },
  {
   "cell_type": "code",
   "execution_count": 5,
   "id": "390b7787-bc7e-4592-b91f-81d6d60a32d9",
   "metadata": {},
   "outputs": [],
   "source": [
    "prev = weiss_tracks.at[1644, \"description\"]\n",
    "weiss_tracks.at[1644, \"description\"] = prev + \"_1\""
   ]
  },
  {
   "cell_type": "code",
   "execution_count": 6,
   "id": "021d43dd-a2af-4c30-803d-710eda087f12",
   "metadata": {},
   "outputs": [],
   "source": [
    "prev = weiss_tracks.at[3358, \"description\"]\n",
    "weiss_tracks.at[3358, \"description\"] = prev + \"_2\""
   ]
  },
  {
   "cell_type": "code",
   "execution_count": 7,
   "id": "f5dc750e-29e2-4fdb-bf95-ca0f0ac0c4c7",
   "metadata": {},
   "outputs": [
    {
     "name": "stdout",
     "output_type": "stream",
     "text": [
      "CHIP:CTCF:bipolar neuron originated from GM23338 treated with 0.5 ug/mL doxycycline hyclate for 4 days_1\n"
     ]
    }
   ],
   "source": [
    "print(weiss_tracks.at[1644, \"description\"])"
   ]
  },
  {
   "cell_type": "code",
   "execution_count": 8,
   "id": "1c53df6c-f331-4041-b45e-3c897669a41e",
   "metadata": {},
   "outputs": [
    {
     "name": "stdout",
     "output_type": "stream",
     "text": [
      "CHIP:CTCF:bipolar neuron originated from GM23338 treated with 0.5 ug/mL doxycycline hyclate for 4 days_2\n"
     ]
    }
   ],
   "source": [
    "print(weiss_tracks.at[3358, \"description\"])"
   ]
  },
  {
   "cell_type": "code",
   "execution_count": 9,
   "id": "ce28911f-cb81-4ca8-a750-54ca428ec478",
   "metadata": {},
   "outputs": [
    {
     "data": {
      "text/plain": [
       "0"
      ]
     },
     "execution_count": 9,
     "metadata": {},
     "output_type": "execute_result"
    }
   ],
   "source": [
    "weiss_tracks[\"description\"].duplicated(keep=False).sum()"
   ]
  },
  {
   "cell_type": "markdown",
   "id": "b6000dda-7c92-4c69-a098-c62b4cf1aa5e",
   "metadata": {},
   "source": [
    "<div class=\"alert alert-block alert-warning\">\n",
    "<b>Note:</b> Only activate following cell if you want to overwrite the old tracks!\n",
    "</div>"
   ]
  },
  {
   "cell_type": "raw",
   "id": "2de805ba-8f9f-4ef6-8433-42d03549cb7a",
   "metadata": {},
   "source": [
    "weiss_tracks.to_csv(\"Data/Weiss_human_specific_variants/weiss_tracks.yaml\",\n",
    "                   index=False, header=False, sep=\"\\t\")"
   ]
  },
  {
   "cell_type": "markdown",
   "id": "8f8b04c5-d2d7-4165-9be3-6bb6e28638cd",
   "metadata": {},
   "source": [
    "## K562 Tracks"
   ]
  },
  {
   "cell_type": "markdown",
   "id": "86a38500-9fa0-4009-b529-88eb0bd1f0b6",
   "metadata": {},
   "source": [
    "Tracks for `bergmann_exp` and `bergmann_promoteronly`"
   ]
  },
  {
   "cell_type": "code",
   "execution_count": 10,
   "id": "54b8e976-12ab-45d0-a86d-e2e113818ba8",
   "metadata": {},
   "outputs": [
    {
     "data": {
      "text/html": [
       "<div>\n",
       "<style scoped>\n",
       "    .dataframe tbody tr th:only-of-type {\n",
       "        vertical-align: middle;\n",
       "    }\n",
       "\n",
       "    .dataframe tbody tr th {\n",
       "        vertical-align: top;\n",
       "    }\n",
       "\n",
       "    .dataframe thead th {\n",
       "        text-align: right;\n",
       "    }\n",
       "</style>\n",
       "<table border=\"1\" class=\"dataframe\">\n",
       "  <thead>\n",
       "    <tr style=\"text-align: right;\">\n",
       "      <th></th>\n",
       "      <th>description</th>\n",
       "      <th>index</th>\n",
       "    </tr>\n",
       "  </thead>\n",
       "  <tbody>\n",
       "    <tr>\n",
       "      <th>33</th>\n",
       "      <td>DNASE:K562 treated with 1 uM vorinostat for 72...</td>\n",
       "      <td>33</td>\n",
       "    </tr>\n",
       "    <tr>\n",
       "      <th>34</th>\n",
       "      <td>DNASE:K562 G2 phase</td>\n",
       "      <td>34</td>\n",
       "    </tr>\n",
       "    <tr>\n",
       "      <th>35</th>\n",
       "      <td>DNASE:K562 G1 phase</td>\n",
       "      <td>35</td>\n",
       "    </tr>\n",
       "    <tr>\n",
       "      <th>121</th>\n",
       "      <td>DNASE:K562</td>\n",
       "      <td>121</td>\n",
       "    </tr>\n",
       "    <tr>\n",
       "      <th>122</th>\n",
       "      <td>DNASE:K562</td>\n",
       "      <td>122</td>\n",
       "    </tr>\n",
       "    <tr>\n",
       "      <th>...</th>\n",
       "      <td>...</td>\n",
       "      <td>...</td>\n",
       "    </tr>\n",
       "    <tr>\n",
       "      <th>4503</th>\n",
       "      <td>CHIP:NFRKB:K562</td>\n",
       "      <td>4503</td>\n",
       "    </tr>\n",
       "    <tr>\n",
       "      <th>4508</th>\n",
       "      <td>CHIP:XRCC3:K562</td>\n",
       "      <td>4508</td>\n",
       "    </tr>\n",
       "    <tr>\n",
       "      <th>4510</th>\n",
       "      <td>CHIP:NRF1:K562</td>\n",
       "      <td>4510</td>\n",
       "    </tr>\n",
       "    <tr>\n",
       "      <th>4828</th>\n",
       "      <td>CAGE:chronic myelogenous leukemia cell line:K562</td>\n",
       "      <td>4828</td>\n",
       "    </tr>\n",
       "    <tr>\n",
       "      <th>5111</th>\n",
       "      <td>CAGE:chronic myelogenous leukemia cell line:K5...</td>\n",
       "      <td>5111</td>\n",
       "    </tr>\n",
       "  </tbody>\n",
       "</table>\n",
       "<p>485 rows × 2 columns</p>\n",
       "</div>"
      ],
      "text/plain": [
       "                                            description  index\n",
       "33    DNASE:K562 treated with 1 uM vorinostat for 72...     33\n",
       "34                                  DNASE:K562 G2 phase     34\n",
       "35                                  DNASE:K562 G1 phase     35\n",
       "121                                          DNASE:K562    121\n",
       "122                                          DNASE:K562    122\n",
       "...                                                 ...    ...\n",
       "4503                                    CHIP:NFRKB:K562   4503\n",
       "4508                                    CHIP:XRCC3:K562   4508\n",
       "4510                                     CHIP:NRF1:K562   4510\n",
       "4828   CAGE:chronic myelogenous leukemia cell line:K562   4828\n",
       "5111  CAGE:chronic myelogenous leukemia cell line:K5...   5111\n",
       "\n",
       "[485 rows x 2 columns]"
      ]
     },
     "execution_count": 10,
     "metadata": {},
     "output_type": "execute_result"
    }
   ],
   "source": [
    "k562_tracks = target_df.loc[\n",
    "    target_df.description.str.contains(\"k562\", case=False)\n",
    "][[\"description\", \"index\"]]\n",
    "k562_tracks"
   ]
  },
  {
   "cell_type": "code",
   "execution_count": 11,
   "id": "575a78b1-7960-444f-9d71-d4ea5b3726a8",
   "metadata": {},
   "outputs": [
    {
     "data": {
      "text/plain": [
       "178"
      ]
     },
     "execution_count": 11,
     "metadata": {},
     "output_type": "execute_result"
    }
   ],
   "source": [
    "k562_tracks[\"description\"].duplicated(keep=False).sum()"
   ]
  },
  {
   "cell_type": "code",
   "execution_count": 12,
   "id": "a96cc24b-6278-4493-b258-f76b54bf9d75",
   "metadata": {},
   "outputs": [],
   "source": [
    "k562_dupes = k562_tracks[\"description\"].duplicated(keep=False)\n",
    "k562_dupe_descs = k562_tracks[k562_dupes][\"description\"].unique()"
   ]
  },
  {
   "cell_type": "code",
   "execution_count": 13,
   "id": "ad01a38a-926c-475a-bcb6-ac1ad7aaaca4",
   "metadata": {},
   "outputs": [],
   "source": [
    "for dupe_desc in k562_dupe_descs:\n",
    "    duped_idxs = k562_tracks[k562_tracks[\"description\"] == dupe_desc].index\n",
    "    i = 1\n",
    "    for idx in duped_idxs:\n",
    "        prev = k562_tracks.at[idx, \"description\"]\n",
    "        k562_tracks.at[idx, \"description\"] = prev + \"_\" + str(i)\n",
    "        i += 1"
   ]
  },
  {
   "cell_type": "code",
   "execution_count": 14,
   "id": "0938f6b7-7e07-4e36-af09-098f371da7fa",
   "metadata": {},
   "outputs": [
    {
     "data": {
      "text/plain": [
       "0"
      ]
     },
     "execution_count": 14,
     "metadata": {},
     "output_type": "execute_result"
    }
   ],
   "source": [
    "k562_tracks[\"description\"].duplicated(keep=False).sum()"
   ]
  },
  {
   "cell_type": "markdown",
   "id": "5a408b6b-69ee-414b-9067-ec706512a43b",
   "metadata": {},
   "source": [
    "<div class=\"alert alert-block alert-warning\">\n",
    "<b>Note:</b> Only activate following cell if you want to overwrite the old tracks!\n",
    "</div>"
   ]
  },
  {
   "cell_type": "raw",
   "id": "832f29dd-c4dd-49a9-be5b-817fb44d5f01",
   "metadata": {},
   "source": [
    "k562_tracks.to_csv(\"Data/Tracks/k562_tracks.yaml\",\n",
    "                   index=False, header=False, sep=\"\\t\")"
   ]
  },
  {
   "cell_type": "markdown",
   "id": "54b5da84-f8ff-4391-91b0-9c085d70eb2e",
   "metadata": {},
   "source": [
    "## Kircher Tracks"
   ]
  },
  {
   "cell_type": "markdown",
   "id": "dbcc3f1c-4b95-4eee-9a9c-1211d17834d5",
   "metadata": {},
   "source": [
    "Tracks for `kircher_ingenome`"
   ]
  },
  {
   "cell_type": "markdown",
   "id": "f549cdf9-5005-4b10-bc0e-722dde0318a4",
   "metadata": {},
   "source": [
    "### Enformer/Basenji2"
   ]
  },
  {
   "cell_type": "code",
   "execution_count": 4,
   "id": "c19127f2-08f5-458a-8ad5-bc311a087374",
   "metadata": {},
   "outputs": [
    {
     "data": {
      "text/html": [
       "<div>\n",
       "<style scoped>\n",
       "    .dataframe tbody tr th:only-of-type {\n",
       "        vertical-align: middle;\n",
       "    }\n",
       "\n",
       "    .dataframe tbody tr th {\n",
       "        vertical-align: top;\n",
       "    }\n",
       "\n",
       "    .dataframe thead th {\n",
       "        text-align: right;\n",
       "    }\n",
       "</style>\n",
       "<table border=\"1\" class=\"dataframe\">\n",
       "  <thead>\n",
       "    <tr style=\"text-align: right;\">\n",
       "      <th></th>\n",
       "      <th>description</th>\n",
       "      <th>index</th>\n",
       "    </tr>\n",
       "  </thead>\n",
       "  <tbody>\n",
       "    <tr>\n",
       "      <th>0</th>\n",
       "      <td>DNASE:cerebellum male adult (27 years) and mal...</td>\n",
       "      <td>0</td>\n",
       "    </tr>\n",
       "    <tr>\n",
       "      <th>1</th>\n",
       "      <td>DNASE:frontal cortex male adult (27 years) and...</td>\n",
       "      <td>1</td>\n",
       "    </tr>\n",
       "    <tr>\n",
       "      <th>2</th>\n",
       "      <td>DNASE:chorion</td>\n",
       "      <td>2</td>\n",
       "    </tr>\n",
       "    <tr>\n",
       "      <th>3</th>\n",
       "      <td>DNASE:Ishikawa treated with 0.02% dimethyl sul...</td>\n",
       "      <td>3</td>\n",
       "    </tr>\n",
       "    <tr>\n",
       "      <th>4</th>\n",
       "      <td>DNASE:GM03348</td>\n",
       "      <td>4</td>\n",
       "    </tr>\n",
       "    <tr>\n",
       "      <th>...</th>\n",
       "      <td>...</td>\n",
       "      <td>...</td>\n",
       "    </tr>\n",
       "    <tr>\n",
       "      <th>5308</th>\n",
       "      <td>CAGE:epithelioid sarcoma cell line:HS-ES-2R</td>\n",
       "      <td>5308</td>\n",
       "    </tr>\n",
       "    <tr>\n",
       "      <th>5309</th>\n",
       "      <td>CAGE:squamous cell lung carcinoma cell line:RE...</td>\n",
       "      <td>5309</td>\n",
       "    </tr>\n",
       "    <tr>\n",
       "      <th>5310</th>\n",
       "      <td>CAGE:gastric cancer cell line:GSS</td>\n",
       "      <td>5310</td>\n",
       "    </tr>\n",
       "    <tr>\n",
       "      <th>5311</th>\n",
       "      <td>CAGE:carcinoid cell line:NCI-H727</td>\n",
       "      <td>5311</td>\n",
       "    </tr>\n",
       "    <tr>\n",
       "      <th>5312</th>\n",
       "      <td>CAGE:lung adenocarcinoma, papillary cell line:...</td>\n",
       "      <td>5312</td>\n",
       "    </tr>\n",
       "  </tbody>\n",
       "</table>\n",
       "<p>1312 rows × 2 columns</p>\n",
       "</div>"
      ],
      "text/plain": [
       "                                            description  index\n",
       "0     DNASE:cerebellum male adult (27 years) and mal...      0\n",
       "1     DNASE:frontal cortex male adult (27 years) and...      1\n",
       "2                                         DNASE:chorion      2\n",
       "3     DNASE:Ishikawa treated with 0.02% dimethyl sul...      3\n",
       "4                                         DNASE:GM03348      4\n",
       "...                                                 ...    ...\n",
       "5308        CAGE:epithelioid sarcoma cell line:HS-ES-2R   5308\n",
       "5309  CAGE:squamous cell lung carcinoma cell line:RE...   5309\n",
       "5310                  CAGE:gastric cancer cell line:GSS   5310\n",
       "5311                  CAGE:carcinoid cell line:NCI-H727   5311\n",
       "5312  CAGE:lung adenocarcinoma, papillary cell line:...   5312\n",
       "\n",
       "[1312 rows x 2 columns]"
      ]
     },
     "execution_count": 4,
     "metadata": {},
     "output_type": "execute_result"
    }
   ],
   "source": [
    "kircher_tracks = target_df.loc[\n",
    "    target_df.description.str.contains(\"cage\", case=False)\n",
    "    | target_df.description.str.contains(\"dnase\", case=False)\n",
    "][[\"description\", \"index\"]]\n",
    "kircher_tracks"
   ]
  },
  {
   "cell_type": "code",
   "execution_count": 5,
   "id": "4a9e5079-32ef-4aa7-af86-da0c6635e1b4",
   "metadata": {},
   "outputs": [
    {
     "data": {
      "text/plain": [
       "128"
      ]
     },
     "execution_count": 5,
     "metadata": {},
     "output_type": "execute_result"
    }
   ],
   "source": [
    "kircher_tracks[\"description\"].duplicated(keep=False).sum()"
   ]
  },
  {
   "cell_type": "code",
   "execution_count": 6,
   "id": "d5d24661-6c67-4475-9d57-5438093fa4d7",
   "metadata": {},
   "outputs": [],
   "source": [
    "kircher_dupes = kircher_tracks[\"description\"].duplicated(keep=False)\n",
    "kircher_dupe_descs = kircher_tracks[kircher_dupes][\"description\"].unique()"
   ]
  },
  {
   "cell_type": "code",
   "execution_count": 7,
   "id": "113926ed-5a43-4f20-bd24-bd463cd874c3",
   "metadata": {},
   "outputs": [],
   "source": [
    "for dupe_desc in kircher_dupe_descs:\n",
    "    duped_idxs = kircher_tracks[kircher_tracks[\"description\"] == dupe_desc].index\n",
    "    i = 1\n",
    "    for idx in duped_idxs:\n",
    "        prev = kircher_tracks.at[idx, \"description\"]\n",
    "        kircher_tracks.at[idx, \"description\"] = prev + \"_\" + str(i)\n",
    "        i += 1"
   ]
  },
  {
   "cell_type": "code",
   "execution_count": 8,
   "id": "38d63318-f550-4568-907c-31146df3c6b0",
   "metadata": {},
   "outputs": [
    {
     "data": {
      "text/plain": [
       "0"
      ]
     },
     "execution_count": 8,
     "metadata": {},
     "output_type": "execute_result"
    }
   ],
   "source": [
    "kircher_tracks[\"description\"].duplicated(keep=False).sum()"
   ]
  },
  {
   "cell_type": "markdown",
   "id": "12a9f8f7-a60e-48ba-995d-187fa3c3f6d4",
   "metadata": {},
   "source": [
    "<div class=\"alert alert-block alert-warning\">\n",
    "<b>Note:</b> Only activate following cell if you want to overwrite the old tracks!\n",
    "</div>"
   ]
  },
  {
   "cell_type": "code",
   "execution_count": 9,
   "id": "fc2bd082-31f1-4b8a-9d0e-939535afff85",
   "metadata": {},
   "outputs": [],
   "source": [
    "kircher_tracks.to_csv(\"Data/Kircher_saturation_mutagenesis/kircher_tracks.yaml\",\n",
    "                   index=False, header=False, sep=\"\\t\")"
   ]
  },
  {
   "cell_type": "markdown",
   "id": "c2a9addc-25de-47a6-89a9-ec055864ff17",
   "metadata": {},
   "source": [
    "### Basenji1"
   ]
  },
  {
   "cell_type": "code",
   "execution_count": 32,
   "id": "1f177d63-d182-48a1-9c5a-7cd4d96394fb",
   "metadata": {},
   "outputs": [
    {
     "data": {
      "text/html": [
       "<div>\n",
       "<style scoped>\n",
       "    .dataframe tbody tr th:only-of-type {\n",
       "        vertical-align: middle;\n",
       "    }\n",
       "\n",
       "    .dataframe tbody tr th {\n",
       "        vertical-align: top;\n",
       "    }\n",
       "\n",
       "    .dataframe thead th {\n",
       "        text-align: right;\n",
       "    }\n",
       "</style>\n",
       "<table border=\"1\" class=\"dataframe\">\n",
       "  <thead>\n",
       "    <tr style=\"text-align: right;\">\n",
       "      <th></th>\n",
       "      <th>description</th>\n",
       "      <th>index</th>\n",
       "    </tr>\n",
       "  </thead>\n",
       "  <tbody>\n",
       "    <tr>\n",
       "      <th>0</th>\n",
       "      <td>DNASE:T-helper 2 cell female adult (26 years)</td>\n",
       "      <td>0</td>\n",
       "    </tr>\n",
       "    <tr>\n",
       "      <th>1</th>\n",
       "      <td>DNASE:induced pluripotent stem cell male adult...</td>\n",
       "      <td>1</td>\n",
       "    </tr>\n",
       "    <tr>\n",
       "      <th>2</th>\n",
       "      <td>DNASE:glomerular endothelial cell</td>\n",
       "      <td>2</td>\n",
       "    </tr>\n",
       "    <tr>\n",
       "      <th>3</th>\n",
       "      <td>DNASE:ACHN</td>\n",
       "      <td>3</td>\n",
       "    </tr>\n",
       "    <tr>\n",
       "      <th>4</th>\n",
       "      <td>DNASE:hematopoietic multipotent progenitor cel...</td>\n",
       "      <td>4</td>\n",
       "    </tr>\n",
       "    <tr>\n",
       "      <th>...</th>\n",
       "      <td>...</td>\n",
       "      <td>...</td>\n",
       "    </tr>\n",
       "    <tr>\n",
       "      <th>4224</th>\n",
       "      <td>CAGE:Olfactory epithelial cells, donor3</td>\n",
       "      <td>4224</td>\n",
       "    </tr>\n",
       "    <tr>\n",
       "      <th>4225</th>\n",
       "      <td>CAGE:Olfactory epithelial cells, donor4</td>\n",
       "      <td>4225</td>\n",
       "    </tr>\n",
       "    <tr>\n",
       "      <th>4226</th>\n",
       "      <td>CAGE:chronic myelogenous leukemia cell line:K562</td>\n",
       "      <td>4226</td>\n",
       "    </tr>\n",
       "    <tr>\n",
       "      <th>4227</th>\n",
       "      <td>CAGE:Urothelial cells, donor0</td>\n",
       "      <td>4227</td>\n",
       "    </tr>\n",
       "    <tr>\n",
       "      <th>4228</th>\n",
       "      <td>CAGE:vein, adult</td>\n",
       "      <td>4228</td>\n",
       "    </tr>\n",
       "  </tbody>\n",
       "</table>\n",
       "<p>1922 rows × 2 columns</p>\n",
       "</div>"
      ],
      "text/plain": [
       "                                            description  index\n",
       "0         DNASE:T-helper 2 cell female adult (26 years)      0\n",
       "1     DNASE:induced pluripotent stem cell male adult...      1\n",
       "2                     DNASE:glomerular endothelial cell      2\n",
       "3                                            DNASE:ACHN      3\n",
       "4     DNASE:hematopoietic multipotent progenitor cel...      4\n",
       "...                                                 ...    ...\n",
       "4224            CAGE:Olfactory epithelial cells, donor3   4224\n",
       "4225            CAGE:Olfactory epithelial cells, donor4   4225\n",
       "4226   CAGE:chronic myelogenous leukemia cell line:K562   4226\n",
       "4227                      CAGE:Urothelial cells, donor0   4227\n",
       "4228                                   CAGE:vein, adult   4228\n",
       "\n",
       "[1922 rows x 2 columns]"
      ]
     },
     "execution_count": 32,
     "metadata": {},
     "output_type": "execute_result"
    }
   ],
   "source": [
    "b1_kircher_tracks = b1_target_df.loc[\n",
    "    b1_target_df.description.str.contains(\"cage\", case=False)\n",
    "    | b1_target_df.description.str.contains(\"dnase\", case=False)\n",
    "][[\"description\", \"index\"]]\n",
    "b1_kircher_tracks"
   ]
  },
  {
   "cell_type": "code",
   "execution_count": 33,
   "id": "d7c9e477-8f1f-4c6b-bff2-8b9a13b7a501",
   "metadata": {},
   "outputs": [],
   "source": [
    "dedupe_tracks(b1_kircher_tracks)"
   ]
  },
  {
   "cell_type": "markdown",
   "id": "81eb18b0-3983-4af7-a438-3c229102828c",
   "metadata": {
    "tags": []
   },
   "source": [
    "<div class=\"alert alert-block alert-warning\">\n",
    "<b>Note:</b> Only activate following cell if you want to overwrite the old tracks!\n",
    "</div>"
   ]
  },
  {
   "cell_type": "code",
   "execution_count": 34,
   "id": "54f189bd-3eb2-49e2-afb9-49c2a15932e2",
   "metadata": {},
   "outputs": [],
   "source": [
    "b1_kircher_tracks.to_csv(\"Data/Kircher_saturation_mutagenesis/basenji1_kircher_tracks.yaml\",\n",
    "                   index=False, header=False, sep=\"\\t\")"
   ]
  },
  {
   "cell_type": "markdown",
   "id": "278caa18-8603-4276-ae78-c1362d67dbc6",
   "metadata": {},
   "source": [
    "## Arensbergen Tracks"
   ]
  },
  {
   "cell_type": "markdown",
   "id": "1ec1faa4-273e-4c18-a300-d2344fb4ec08",
   "metadata": {},
   "source": [
    "Tracks for `arensbergen_ingenome`."
   ]
  },
  {
   "cell_type": "markdown",
   "id": "8e6b50da-8dba-40ff-8118-0cac175cac6e",
   "metadata": {},
   "source": [
    "### Enformer/Basenji2"
   ]
  },
  {
   "cell_type": "code",
   "execution_count": 17,
   "id": "ca6e4012-e839-40e3-8aab-d0218fdd7d3c",
   "metadata": {},
   "outputs": [
    {
     "data": {
      "text/html": [
       "<div>\n",
       "<style scoped>\n",
       "    .dataframe tbody tr th:only-of-type {\n",
       "        vertical-align: middle;\n",
       "    }\n",
       "\n",
       "    .dataframe tbody tr th {\n",
       "        vertical-align: top;\n",
       "    }\n",
       "\n",
       "    .dataframe thead th {\n",
       "        text-align: right;\n",
       "    }\n",
       "</style>\n",
       "<table border=\"1\" class=\"dataframe\">\n",
       "  <thead>\n",
       "    <tr style=\"text-align: right;\">\n",
       "      <th></th>\n",
       "      <th>description</th>\n",
       "      <th>index</th>\n",
       "    </tr>\n",
       "  </thead>\n",
       "  <tbody>\n",
       "    <tr>\n",
       "      <th>27</th>\n",
       "      <td>DNASE:HepG2</td>\n",
       "      <td>27</td>\n",
       "    </tr>\n",
       "    <tr>\n",
       "      <th>33</th>\n",
       "      <td>DNASE:K562 treated with 1 uM vorinostat for 72...</td>\n",
       "      <td>33</td>\n",
       "    </tr>\n",
       "    <tr>\n",
       "      <th>34</th>\n",
       "      <td>DNASE:K562 G2 phase</td>\n",
       "      <td>34</td>\n",
       "    </tr>\n",
       "    <tr>\n",
       "      <th>35</th>\n",
       "      <td>DNASE:K562 G1 phase</td>\n",
       "      <td>35</td>\n",
       "    </tr>\n",
       "    <tr>\n",
       "      <th>91</th>\n",
       "      <td>DNASE:HepG2</td>\n",
       "      <td>91</td>\n",
       "    </tr>\n",
       "    <tr>\n",
       "      <th>...</th>\n",
       "      <td>...</td>\n",
       "      <td>...</td>\n",
       "    </tr>\n",
       "    <tr>\n",
       "      <th>4508</th>\n",
       "      <td>CHIP:XRCC3:K562</td>\n",
       "      <td>4508</td>\n",
       "    </tr>\n",
       "    <tr>\n",
       "      <th>4510</th>\n",
       "      <td>CHIP:NRF1:K562</td>\n",
       "      <td>4510</td>\n",
       "    </tr>\n",
       "    <tr>\n",
       "      <th>4828</th>\n",
       "      <td>CAGE:chronic myelogenous leukemia cell line:K562</td>\n",
       "      <td>4828</td>\n",
       "    </tr>\n",
       "    <tr>\n",
       "      <th>5109</th>\n",
       "      <td>CAGE:hepatocellular carcinoma cell line: HepG2...</td>\n",
       "      <td>5109</td>\n",
       "    </tr>\n",
       "    <tr>\n",
       "      <th>5111</th>\n",
       "      <td>CAGE:chronic myelogenous leukemia cell line:K5...</td>\n",
       "      <td>5111</td>\n",
       "    </tr>\n",
       "  </tbody>\n",
       "</table>\n",
       "<p>751 rows × 2 columns</p>\n",
       "</div>"
      ],
      "text/plain": [
       "                                            description  index\n",
       "27                                          DNASE:HepG2     27\n",
       "33    DNASE:K562 treated with 1 uM vorinostat for 72...     33\n",
       "34                                  DNASE:K562 G2 phase     34\n",
       "35                                  DNASE:K562 G1 phase     35\n",
       "91                                          DNASE:HepG2     91\n",
       "...                                                 ...    ...\n",
       "4508                                    CHIP:XRCC3:K562   4508\n",
       "4510                                     CHIP:NRF1:K562   4510\n",
       "4828   CAGE:chronic myelogenous leukemia cell line:K562   4828\n",
       "5109  CAGE:hepatocellular carcinoma cell line: HepG2...   5109\n",
       "5111  CAGE:chronic myelogenous leukemia cell line:K5...   5111\n",
       "\n",
       "[751 rows x 2 columns]"
      ]
     },
     "execution_count": 17,
     "metadata": {},
     "output_type": "execute_result"
    }
   ],
   "source": [
    "arensbergen_tracks = target_df.loc[\n",
    "    target_df.description.str.contains(\"k562\", case=False) \n",
    "    | target_df.description.str.contains(\"hepg2\", case=False)\n",
    "][[\"description\", \"index\"]]\n",
    "arensbergen_tracks"
   ]
  },
  {
   "cell_type": "code",
   "execution_count": 20,
   "id": "5af7c94c-3d6c-4203-925f-790c1cfcf3bb",
   "metadata": {},
   "outputs": [
    {
     "data": {
      "text/plain": [
       "225"
      ]
     },
     "execution_count": 20,
     "metadata": {},
     "output_type": "execute_result"
    }
   ],
   "source": [
    "arensbergen_dupes = arensbergen_tracks[\"description\"].duplicated(keep=False)\n",
    "arensbergen_dupes.sum()"
   ]
  },
  {
   "cell_type": "code",
   "execution_count": 21,
   "id": "600d7e0e-8388-4cd9-b12d-a5dbcf6ab6bb",
   "metadata": {},
   "outputs": [],
   "source": [
    "arensbergen_dupe_descs = arensbergen_tracks[arensbergen_dupes][\"description\"].unique()"
   ]
  },
  {
   "cell_type": "code",
   "execution_count": 23,
   "id": "d859e892-d92f-46ea-8299-37877ceb2d7c",
   "metadata": {},
   "outputs": [],
   "source": [
    "for dupe_desc in arensbergen_dupe_descs:\n",
    "    duped_idxs = arensbergen_tracks[arensbergen_tracks[\"description\"] == dupe_desc].index\n",
    "    i = 1\n",
    "    for idx in duped_idxs:\n",
    "        prev = arensbergen_tracks.at[idx, \"description\"]\n",
    "        arensbergen_tracks.at[idx, \"description\"] = prev + \"_\" + str(i)\n",
    "        i += 1"
   ]
  },
  {
   "cell_type": "code",
   "execution_count": 24,
   "id": "db920a7c-f3a9-43e1-9793-9166b8cc1bcf",
   "metadata": {},
   "outputs": [
    {
     "data": {
      "text/plain": [
       "0"
      ]
     },
     "execution_count": 24,
     "metadata": {},
     "output_type": "execute_result"
    }
   ],
   "source": [
    "arensbergen_tracks[\"description\"].duplicated(keep=False).sum()"
   ]
  },
  {
   "cell_type": "markdown",
   "id": "2abf6abb-e7da-4558-b5cf-22d605520745",
   "metadata": {},
   "source": [
    "<div class=\"alert alert-block alert-warning\">\n",
    "<b>Note:</b> Only activate following cell if you want to overwrite the old tracks!\n",
    "</div>"
   ]
  },
  {
   "cell_type": "raw",
   "id": "71374a77-1af0-472f-9e3c-84117e914642",
   "metadata": {},
   "source": [
    "arensbergen_tracks.to_csv(\"Data/Arensbergen_sure_mpra/arensbergen_tracks.yaml\",\n",
    "                   index=False, header=False, sep=\"\\t\")"
   ]
  },
  {
   "cell_type": "markdown",
   "id": "5662d3ec-5903-43be-9848-43b2504c996e",
   "metadata": {},
   "source": [
    "### Basenji1"
   ]
  },
  {
   "cell_type": "code",
   "execution_count": 38,
   "id": "452fcb08-78a1-4be4-8e34-6d34a3dc86ae",
   "metadata": {},
   "outputs": [
    {
     "data": {
      "text/html": [
       "<div>\n",
       "<style scoped>\n",
       "    .dataframe tbody tr th:only-of-type {\n",
       "        vertical-align: middle;\n",
       "    }\n",
       "\n",
       "    .dataframe tbody tr th {\n",
       "        vertical-align: top;\n",
       "    }\n",
       "\n",
       "    .dataframe thead th {\n",
       "        text-align: right;\n",
       "    }\n",
       "</style>\n",
       "<table border=\"1\" class=\"dataframe\">\n",
       "  <thead>\n",
       "    <tr style=\"text-align: right;\">\n",
       "      <th></th>\n",
       "      <th>description</th>\n",
       "      <th>index</th>\n",
       "    </tr>\n",
       "  </thead>\n",
       "  <tbody>\n",
       "    <tr>\n",
       "      <th>28</th>\n",
       "      <td>DNASE:K562 G1 phase</td>\n",
       "      <td>28</td>\n",
       "    </tr>\n",
       "    <tr>\n",
       "      <th>38</th>\n",
       "      <td>DNASE:K562</td>\n",
       "      <td>38</td>\n",
       "    </tr>\n",
       "    <tr>\n",
       "      <th>55</th>\n",
       "      <td>DNASE:K562</td>\n",
       "      <td>55</td>\n",
       "    </tr>\n",
       "    <tr>\n",
       "      <th>146</th>\n",
       "      <td>DNASE:K562 treated with sodium butyrate</td>\n",
       "      <td>146</td>\n",
       "    </tr>\n",
       "    <tr>\n",
       "      <th>177</th>\n",
       "      <td>DNASE:K562</td>\n",
       "      <td>177</td>\n",
       "    </tr>\n",
       "    <tr>\n",
       "      <th>...</th>\n",
       "      <td>...</td>\n",
       "      <td>...</td>\n",
       "    </tr>\n",
       "    <tr>\n",
       "      <th>3532</th>\n",
       "      <td>CAGE:hepatocellular carcinoma cell line: HepG2...</td>\n",
       "      <td>3532</td>\n",
       "    </tr>\n",
       "    <tr>\n",
       "      <th>3586</th>\n",
       "      <td>CAGE:chronic myelogenous leukemia cell line:K5...</td>\n",
       "      <td>3586</td>\n",
       "    </tr>\n",
       "    <tr>\n",
       "      <th>3587</th>\n",
       "      <td>CAGE:chronic myelogenous leukemia cell line:K5...</td>\n",
       "      <td>3587</td>\n",
       "    </tr>\n",
       "    <tr>\n",
       "      <th>3588</th>\n",
       "      <td>CAGE:chronic myelogenous leukemia cell line:K5...</td>\n",
       "      <td>3588</td>\n",
       "    </tr>\n",
       "    <tr>\n",
       "      <th>4226</th>\n",
       "      <td>CAGE:chronic myelogenous leukemia cell line:K562</td>\n",
       "      <td>4226</td>\n",
       "    </tr>\n",
       "  </tbody>\n",
       "</table>\n",
       "<p>101 rows × 2 columns</p>\n",
       "</div>"
      ],
      "text/plain": [
       "                                            description  index\n",
       "28                                  DNASE:K562 G1 phase     28\n",
       "38                                           DNASE:K562     38\n",
       "55                                           DNASE:K562     55\n",
       "146             DNASE:K562 treated with sodium butyrate    146\n",
       "177                                          DNASE:K562    177\n",
       "...                                                 ...    ...\n",
       "3532  CAGE:hepatocellular carcinoma cell line: HepG2...   3532\n",
       "3586  CAGE:chronic myelogenous leukemia cell line:K5...   3586\n",
       "3587  CAGE:chronic myelogenous leukemia cell line:K5...   3587\n",
       "3588  CAGE:chronic myelogenous leukemia cell line:K5...   3588\n",
       "4226   CAGE:chronic myelogenous leukemia cell line:K562   4226\n",
       "\n",
       "[101 rows x 2 columns]"
      ]
     },
     "execution_count": 38,
     "metadata": {},
     "output_type": "execute_result"
    }
   ],
   "source": [
    "b1_arensbergen_tracks = b1_target_df.loc[\n",
    "    b1_target_df.description.str.contains(\"k562\", case=False) \n",
    "    | b1_target_df.description.str.contains(\"hepg2\", case=False)\n",
    "][[\"description\", \"index\"]]\n",
    "b1_arensbergen_tracks"
   ]
  },
  {
   "cell_type": "code",
   "execution_count": 39,
   "id": "ed833222-c955-416c-96ed-d793230609af",
   "metadata": {},
   "outputs": [],
   "source": [
    "dedupe_tracks(b1_arensbergen_tracks)"
   ]
  },
  {
   "cell_type": "markdown",
   "id": "927a98d9-3e29-4771-b46e-5e2db5264dfb",
   "metadata": {
    "tags": []
   },
   "source": [
    "<div class=\"alert alert-block alert-warning\">\n",
    "<b>Note:</b> Only activate following cell if you want to overwrite the old tracks!\n",
    "</div>"
   ]
  },
  {
   "cell_type": "code",
   "execution_count": 40,
   "id": "ae0b9a66-fdcd-42f2-a4d2-0ce10922d31c",
   "metadata": {},
   "outputs": [],
   "source": [
    "b1_arensbergen_tracks.to_csv(\"Data/Arensbergen_sure_mpra/basenji1_arensbergen_tracks.yaml\",\n",
    "                             index=False, header=False, sep=\"\\t\")"
   ]
  },
  {
   "cell_type": "markdown",
   "id": "29b05308-34f4-41d3-924c-ef2385b3bdf5",
   "metadata": {},
   "source": [
    "## Arensbergen Plasmid Tracks"
   ]
  },
  {
   "cell_type": "markdown",
   "id": "92fe5288-e96b-4d41-982e-94051be21111",
   "metadata": {},
   "source": [
    "Tracks for `arensbergen_plasmid`."
   ]
  },
  {
   "cell_type": "code",
   "execution_count": 6,
   "id": "40538f14-eb54-4604-b3c7-79a35d036a4a",
   "metadata": {},
   "outputs": [
    {
     "data": {
      "text/html": [
       "<div>\n",
       "<style scoped>\n",
       "    .dataframe tbody tr th:only-of-type {\n",
       "        vertical-align: middle;\n",
       "    }\n",
       "\n",
       "    .dataframe tbody tr th {\n",
       "        vertical-align: top;\n",
       "    }\n",
       "\n",
       "    .dataframe thead th {\n",
       "        text-align: right;\n",
       "    }\n",
       "</style>\n",
       "<table border=\"1\" class=\"dataframe\">\n",
       "  <thead>\n",
       "    <tr style=\"text-align: right;\">\n",
       "      <th></th>\n",
       "      <th>description</th>\n",
       "      <th>index</th>\n",
       "    </tr>\n",
       "  </thead>\n",
       "  <tbody>\n",
       "    <tr>\n",
       "      <th>27</th>\n",
       "      <td>DNASE:HepG2</td>\n",
       "      <td>27</td>\n",
       "    </tr>\n",
       "    <tr>\n",
       "      <th>33</th>\n",
       "      <td>DNASE:K562 treated with 1 uM vorinostat for 72...</td>\n",
       "      <td>33</td>\n",
       "    </tr>\n",
       "    <tr>\n",
       "      <th>34</th>\n",
       "      <td>DNASE:K562 G2 phase</td>\n",
       "      <td>34</td>\n",
       "    </tr>\n",
       "    <tr>\n",
       "      <th>35</th>\n",
       "      <td>DNASE:K562 G1 phase</td>\n",
       "      <td>35</td>\n",
       "    </tr>\n",
       "    <tr>\n",
       "      <th>91</th>\n",
       "      <td>DNASE:HepG2</td>\n",
       "      <td>91</td>\n",
       "    </tr>\n",
       "    <tr>\n",
       "      <th>121</th>\n",
       "      <td>DNASE:K562</td>\n",
       "      <td>121</td>\n",
       "    </tr>\n",
       "    <tr>\n",
       "      <th>122</th>\n",
       "      <td>DNASE:K562</td>\n",
       "      <td>122</td>\n",
       "    </tr>\n",
       "    <tr>\n",
       "      <th>123</th>\n",
       "      <td>DNASE:K562</td>\n",
       "      <td>123</td>\n",
       "    </tr>\n",
       "    <tr>\n",
       "      <th>234</th>\n",
       "      <td>DNASE:HepG2</td>\n",
       "      <td>234</td>\n",
       "    </tr>\n",
       "    <tr>\n",
       "      <th>625</th>\n",
       "      <td>DNASE:K562</td>\n",
       "      <td>625</td>\n",
       "    </tr>\n",
       "    <tr>\n",
       "      <th>4828</th>\n",
       "      <td>CAGE:chronic myelogenous leukemia cell line:K562</td>\n",
       "      <td>4828</td>\n",
       "    </tr>\n",
       "    <tr>\n",
       "      <th>5109</th>\n",
       "      <td>CAGE:hepatocellular carcinoma cell line: HepG2...</td>\n",
       "      <td>5109</td>\n",
       "    </tr>\n",
       "    <tr>\n",
       "      <th>5111</th>\n",
       "      <td>CAGE:chronic myelogenous leukemia cell line:K5...</td>\n",
       "      <td>5111</td>\n",
       "    </tr>\n",
       "  </tbody>\n",
       "</table>\n",
       "</div>"
      ],
      "text/plain": [
       "                                            description  index\n",
       "27                                          DNASE:HepG2     27\n",
       "33    DNASE:K562 treated with 1 uM vorinostat for 72...     33\n",
       "34                                  DNASE:K562 G2 phase     34\n",
       "35                                  DNASE:K562 G1 phase     35\n",
       "91                                          DNASE:HepG2     91\n",
       "121                                          DNASE:K562    121\n",
       "122                                          DNASE:K562    122\n",
       "123                                          DNASE:K562    123\n",
       "234                                         DNASE:HepG2    234\n",
       "625                                          DNASE:K562    625\n",
       "4828   CAGE:chronic myelogenous leukemia cell line:K562   4828\n",
       "5109  CAGE:hepatocellular carcinoma cell line: HepG2...   5109\n",
       "5111  CAGE:chronic myelogenous leukemia cell line:K5...   5111"
      ]
     },
     "execution_count": 6,
     "metadata": {},
     "output_type": "execute_result"
    }
   ],
   "source": [
    "arensplasmid_tracks = target_df.loc[\n",
    "    (target_df.description.str.contains(\"k562\", case=False) \n",
    "      | target_df.description.str.contains(\"hepg2\", case=False))\n",
    "    & (target_df.description.str.contains(\"cage\", case=False)\n",
    "      | target_df.description.str.contains(\"dnase\", case=False))\n",
    "][[\"description\", \"index\"]]\n",
    "arensplasmid_tracks"
   ]
  },
  {
   "cell_type": "code",
   "execution_count": 7,
   "id": "f7fac879-2774-4e19-8b23-eaf103c94705",
   "metadata": {},
   "outputs": [
    {
     "data": {
      "text/html": [
       "<div>\n",
       "<style scoped>\n",
       "    .dataframe tbody tr th:only-of-type {\n",
       "        vertical-align: middle;\n",
       "    }\n",
       "\n",
       "    .dataframe tbody tr th {\n",
       "        vertical-align: top;\n",
       "    }\n",
       "\n",
       "    .dataframe thead th {\n",
       "        text-align: right;\n",
       "    }\n",
       "</style>\n",
       "<table border=\"1\" class=\"dataframe\">\n",
       "  <thead>\n",
       "    <tr style=\"text-align: right;\">\n",
       "      <th></th>\n",
       "      <th>description</th>\n",
       "      <th>index</th>\n",
       "    </tr>\n",
       "  </thead>\n",
       "  <tbody>\n",
       "    <tr>\n",
       "      <th>27</th>\n",
       "      <td>DNASE:HepG2_1</td>\n",
       "      <td>27</td>\n",
       "    </tr>\n",
       "    <tr>\n",
       "      <th>33</th>\n",
       "      <td>DNASE:K562 treated with 1 uM vorinostat for 72...</td>\n",
       "      <td>33</td>\n",
       "    </tr>\n",
       "    <tr>\n",
       "      <th>34</th>\n",
       "      <td>DNASE:K562 G2 phase</td>\n",
       "      <td>34</td>\n",
       "    </tr>\n",
       "    <tr>\n",
       "      <th>35</th>\n",
       "      <td>DNASE:K562 G1 phase</td>\n",
       "      <td>35</td>\n",
       "    </tr>\n",
       "    <tr>\n",
       "      <th>91</th>\n",
       "      <td>DNASE:HepG2_2</td>\n",
       "      <td>91</td>\n",
       "    </tr>\n",
       "    <tr>\n",
       "      <th>121</th>\n",
       "      <td>DNASE:K562_1</td>\n",
       "      <td>121</td>\n",
       "    </tr>\n",
       "    <tr>\n",
       "      <th>122</th>\n",
       "      <td>DNASE:K562_2</td>\n",
       "      <td>122</td>\n",
       "    </tr>\n",
       "    <tr>\n",
       "      <th>123</th>\n",
       "      <td>DNASE:K562_3</td>\n",
       "      <td>123</td>\n",
       "    </tr>\n",
       "    <tr>\n",
       "      <th>234</th>\n",
       "      <td>DNASE:HepG2_3</td>\n",
       "      <td>234</td>\n",
       "    </tr>\n",
       "    <tr>\n",
       "      <th>625</th>\n",
       "      <td>DNASE:K562_4</td>\n",
       "      <td>625</td>\n",
       "    </tr>\n",
       "    <tr>\n",
       "      <th>4828</th>\n",
       "      <td>CAGE:chronic myelogenous leukemia cell line:K562</td>\n",
       "      <td>4828</td>\n",
       "    </tr>\n",
       "    <tr>\n",
       "      <th>5109</th>\n",
       "      <td>CAGE:hepatocellular carcinoma cell line: HepG2...</td>\n",
       "      <td>5109</td>\n",
       "    </tr>\n",
       "    <tr>\n",
       "      <th>5111</th>\n",
       "      <td>CAGE:chronic myelogenous leukemia cell line:K5...</td>\n",
       "      <td>5111</td>\n",
       "    </tr>\n",
       "  </tbody>\n",
       "</table>\n",
       "</div>"
      ],
      "text/plain": [
       "                                            description  index\n",
       "27                                        DNASE:HepG2_1     27\n",
       "33    DNASE:K562 treated with 1 uM vorinostat for 72...     33\n",
       "34                                  DNASE:K562 G2 phase     34\n",
       "35                                  DNASE:K562 G1 phase     35\n",
       "91                                        DNASE:HepG2_2     91\n",
       "121                                        DNASE:K562_1    121\n",
       "122                                        DNASE:K562_2    122\n",
       "123                                        DNASE:K562_3    123\n",
       "234                                       DNASE:HepG2_3    234\n",
       "625                                        DNASE:K562_4    625\n",
       "4828   CAGE:chronic myelogenous leukemia cell line:K562   4828\n",
       "5109  CAGE:hepatocellular carcinoma cell line: HepG2...   5109\n",
       "5111  CAGE:chronic myelogenous leukemia cell line:K5...   5111"
      ]
     },
     "execution_count": 7,
     "metadata": {},
     "output_type": "execute_result"
    }
   ],
   "source": [
    "dedupe_tracks(arensplasmid_tracks)\n",
    "arensplasmid_tracks"
   ]
  },
  {
   "cell_type": "markdown",
   "id": "cc1c4ade-40f6-4949-89cd-8f00033f30e3",
   "metadata": {},
   "source": [
    "<div class=\"alert alert-block alert-warning\">\n",
    "<b>Note:</b> Only activate following cell if you want to overwrite the old tracks!\n",
    "</div>"
   ]
  },
  {
   "cell_type": "code",
   "execution_count": 8,
   "id": "332034df-2235-4a79-975f-1e890549c361",
   "metadata": {},
   "outputs": [],
   "source": [
    "arensplasmid_tracks.to_csv(\"Data/Arensbergen_sure_mpra/arensbergen_plasmid_tracks.yaml\",\n",
    "                   index=False, header=False, sep=\"\\t\")"
   ]
  },
  {
   "cell_type": "markdown",
   "id": "1fed24f7-9598-46f6-bc37-4397c97fe0d3",
   "metadata": {},
   "source": [
    "## Cohen Tracks"
   ]
  },
  {
   "cell_type": "markdown",
   "id": "f95e2b2f-c1f8-45f6-b949-aca14650bb65",
   "metadata": {},
   "source": [
    "Tracks for `cohen_tripseq`."
   ]
  },
  {
   "cell_type": "markdown",
   "id": "47280791-c01a-4d6e-a479-539bde973301",
   "metadata": {},
   "source": [
    "### Enformer/Basenji2"
   ]
  },
  {
   "cell_type": "code",
   "execution_count": 11,
   "id": "d9058e78-3810-4244-af56-8182044e4154",
   "metadata": {},
   "outputs": [
    {
     "data": {
      "text/html": [
       "<div>\n",
       "<style scoped>\n",
       "    .dataframe tbody tr th:only-of-type {\n",
       "        vertical-align: middle;\n",
       "    }\n",
       "\n",
       "    .dataframe tbody tr th {\n",
       "        vertical-align: top;\n",
       "    }\n",
       "\n",
       "    .dataframe thead th {\n",
       "        text-align: right;\n",
       "    }\n",
       "</style>\n",
       "<table border=\"1\" class=\"dataframe\">\n",
       "  <thead>\n",
       "    <tr style=\"text-align: right;\">\n",
       "      <th></th>\n",
       "      <th>description</th>\n",
       "      <th>index</th>\n",
       "    </tr>\n",
       "  </thead>\n",
       "  <tbody>\n",
       "    <tr>\n",
       "      <th>33</th>\n",
       "      <td>DNASE:K562 treated with 1 uM vorinostat for 72...</td>\n",
       "      <td>33</td>\n",
       "    </tr>\n",
       "    <tr>\n",
       "      <th>34</th>\n",
       "      <td>DNASE:K562 G2 phase</td>\n",
       "      <td>34</td>\n",
       "    </tr>\n",
       "    <tr>\n",
       "      <th>35</th>\n",
       "      <td>DNASE:K562 G1 phase</td>\n",
       "      <td>35</td>\n",
       "    </tr>\n",
       "    <tr>\n",
       "      <th>121</th>\n",
       "      <td>DNASE:K562</td>\n",
       "      <td>121</td>\n",
       "    </tr>\n",
       "    <tr>\n",
       "      <th>122</th>\n",
       "      <td>DNASE:K562</td>\n",
       "      <td>122</td>\n",
       "    </tr>\n",
       "    <tr>\n",
       "      <th>123</th>\n",
       "      <td>DNASE:K562</td>\n",
       "      <td>123</td>\n",
       "    </tr>\n",
       "    <tr>\n",
       "      <th>625</th>\n",
       "      <td>DNASE:K562</td>\n",
       "      <td>625</td>\n",
       "    </tr>\n",
       "    <tr>\n",
       "      <th>4828</th>\n",
       "      <td>CAGE:chronic myelogenous leukemia cell line:K562</td>\n",
       "      <td>4828</td>\n",
       "    </tr>\n",
       "    <tr>\n",
       "      <th>5111</th>\n",
       "      <td>CAGE:chronic myelogenous leukemia cell line:K5...</td>\n",
       "      <td>5111</td>\n",
       "    </tr>\n",
       "  </tbody>\n",
       "</table>\n",
       "</div>"
      ],
      "text/plain": [
       "                                            description  index\n",
       "33    DNASE:K562 treated with 1 uM vorinostat for 72...     33\n",
       "34                                  DNASE:K562 G2 phase     34\n",
       "35                                  DNASE:K562 G1 phase     35\n",
       "121                                          DNASE:K562    121\n",
       "122                                          DNASE:K562    122\n",
       "123                                          DNASE:K562    123\n",
       "625                                          DNASE:K562    625\n",
       "4828   CAGE:chronic myelogenous leukemia cell line:K562   4828\n",
       "5111  CAGE:chronic myelogenous leukemia cell line:K5...   5111"
      ]
     },
     "execution_count": 11,
     "metadata": {},
     "output_type": "execute_result"
    }
   ],
   "source": [
    "cohen_tracks = target_df.loc[\n",
    "    target_df.description.str.contains(\"k562\", case=False)\n",
    "    & (target_df.description.str.contains(\"cage\", case=False)\n",
    "      | target_df.description.str.contains(\"dnase\", case=False))\n",
    "][[\"description\", \"index\"]]\n",
    "cohen_tracks"
   ]
  },
  {
   "cell_type": "code",
   "execution_count": 12,
   "id": "0a187f56-aec5-465e-9c99-4fc73ad69a40",
   "metadata": {},
   "outputs": [
    {
     "data": {
      "text/html": [
       "<div>\n",
       "<style scoped>\n",
       "    .dataframe tbody tr th:only-of-type {\n",
       "        vertical-align: middle;\n",
       "    }\n",
       "\n",
       "    .dataframe tbody tr th {\n",
       "        vertical-align: top;\n",
       "    }\n",
       "\n",
       "    .dataframe thead th {\n",
       "        text-align: right;\n",
       "    }\n",
       "</style>\n",
       "<table border=\"1\" class=\"dataframe\">\n",
       "  <thead>\n",
       "    <tr style=\"text-align: right;\">\n",
       "      <th></th>\n",
       "      <th>description</th>\n",
       "      <th>index</th>\n",
       "    </tr>\n",
       "  </thead>\n",
       "  <tbody>\n",
       "    <tr>\n",
       "      <th>33</th>\n",
       "      <td>DNASE:K562 treated with 1 uM vorinostat for 72...</td>\n",
       "      <td>33</td>\n",
       "    </tr>\n",
       "    <tr>\n",
       "      <th>34</th>\n",
       "      <td>DNASE:K562 G2 phase</td>\n",
       "      <td>34</td>\n",
       "    </tr>\n",
       "    <tr>\n",
       "      <th>35</th>\n",
       "      <td>DNASE:K562 G1 phase</td>\n",
       "      <td>35</td>\n",
       "    </tr>\n",
       "    <tr>\n",
       "      <th>121</th>\n",
       "      <td>DNASE:K562_1</td>\n",
       "      <td>121</td>\n",
       "    </tr>\n",
       "    <tr>\n",
       "      <th>122</th>\n",
       "      <td>DNASE:K562_2</td>\n",
       "      <td>122</td>\n",
       "    </tr>\n",
       "    <tr>\n",
       "      <th>123</th>\n",
       "      <td>DNASE:K562_3</td>\n",
       "      <td>123</td>\n",
       "    </tr>\n",
       "    <tr>\n",
       "      <th>625</th>\n",
       "      <td>DNASE:K562_4</td>\n",
       "      <td>625</td>\n",
       "    </tr>\n",
       "    <tr>\n",
       "      <th>4828</th>\n",
       "      <td>CAGE:chronic myelogenous leukemia cell line:K562</td>\n",
       "      <td>4828</td>\n",
       "    </tr>\n",
       "    <tr>\n",
       "      <th>5111</th>\n",
       "      <td>CAGE:chronic myelogenous leukemia cell line:K5...</td>\n",
       "      <td>5111</td>\n",
       "    </tr>\n",
       "  </tbody>\n",
       "</table>\n",
       "</div>"
      ],
      "text/plain": [
       "                                            description  index\n",
       "33    DNASE:K562 treated with 1 uM vorinostat for 72...     33\n",
       "34                                  DNASE:K562 G2 phase     34\n",
       "35                                  DNASE:K562 G1 phase     35\n",
       "121                                        DNASE:K562_1    121\n",
       "122                                        DNASE:K562_2    122\n",
       "123                                        DNASE:K562_3    123\n",
       "625                                        DNASE:K562_4    625\n",
       "4828   CAGE:chronic myelogenous leukemia cell line:K562   4828\n",
       "5111  CAGE:chronic myelogenous leukemia cell line:K5...   5111"
      ]
     },
     "execution_count": 12,
     "metadata": {},
     "output_type": "execute_result"
    }
   ],
   "source": [
    "dedupe_tracks(cohen_tracks)\n",
    "cohen_tracks"
   ]
  },
  {
   "cell_type": "markdown",
   "id": "fb0052e9-46ee-4af6-9edf-8e3b1ba08c3a",
   "metadata": {},
   "source": [
    "<div class=\"alert alert-block alert-warning\">\n",
    "<b>Note:</b> Only activate following cell if you want to overwrite the old tracks!\n",
    "</div>"
   ]
  },
  {
   "cell_type": "code",
   "execution_count": null,
   "id": "cbe3deb8-7a1c-453f-afc2-582b140ea341",
   "metadata": {},
   "outputs": [],
   "source": [
    "cohen_tracks.to_csv(\"Data/Cohen_genomic_environments/cohen_tracks.yaml\",\n",
    "                   index=False, header=False, sep=\"\\t\")"
   ]
  },
  {
   "cell_type": "markdown",
   "id": "1b43fe6d-687e-452d-af14-0960cd78a91c",
   "metadata": {},
   "source": [
    "### Basenji1"
   ]
  },
  {
   "cell_type": "code",
   "execution_count": 41,
   "id": "580cd914-dec4-4766-93b8-fd799bbf682f",
   "metadata": {},
   "outputs": [
    {
     "data": {
      "text/html": [
       "<div>\n",
       "<style scoped>\n",
       "    .dataframe tbody tr th:only-of-type {\n",
       "        vertical-align: middle;\n",
       "    }\n",
       "\n",
       "    .dataframe tbody tr th {\n",
       "        vertical-align: top;\n",
       "    }\n",
       "\n",
       "    .dataframe thead th {\n",
       "        text-align: right;\n",
       "    }\n",
       "</style>\n",
       "<table border=\"1\" class=\"dataframe\">\n",
       "  <thead>\n",
       "    <tr style=\"text-align: right;\">\n",
       "      <th></th>\n",
       "      <th>description</th>\n",
       "      <th>index</th>\n",
       "    </tr>\n",
       "  </thead>\n",
       "  <tbody>\n",
       "    <tr>\n",
       "      <th>28</th>\n",
       "      <td>DNASE:K562 G1 phase</td>\n",
       "      <td>28</td>\n",
       "    </tr>\n",
       "    <tr>\n",
       "      <th>38</th>\n",
       "      <td>DNASE:K562</td>\n",
       "      <td>38</td>\n",
       "    </tr>\n",
       "    <tr>\n",
       "      <th>55</th>\n",
       "      <td>DNASE:K562</td>\n",
       "      <td>55</td>\n",
       "    </tr>\n",
       "    <tr>\n",
       "      <th>146</th>\n",
       "      <td>DNASE:K562 treated with sodium butyrate</td>\n",
       "      <td>146</td>\n",
       "    </tr>\n",
       "    <tr>\n",
       "      <th>177</th>\n",
       "      <td>DNASE:K562</td>\n",
       "      <td>177</td>\n",
       "    </tr>\n",
       "    <tr>\n",
       "      <th>212</th>\n",
       "      <td>DNASE:K562 treated with vorinostat</td>\n",
       "      <td>212</td>\n",
       "    </tr>\n",
       "    <tr>\n",
       "      <th>225</th>\n",
       "      <td>DNASE:K562 treated with vorinostat</td>\n",
       "      <td>225</td>\n",
       "    </tr>\n",
       "    <tr>\n",
       "      <th>231</th>\n",
       "      <td>DNASE:K562 treated with dimethyl sulfoxide</td>\n",
       "      <td>231</td>\n",
       "    </tr>\n",
       "    <tr>\n",
       "      <th>249</th>\n",
       "      <td>DNASE:K562 G1 phase</td>\n",
       "      <td>249</td>\n",
       "    </tr>\n",
       "    <tr>\n",
       "      <th>279</th>\n",
       "      <td>DNASE:K562 G1 phase</td>\n",
       "      <td>279</td>\n",
       "    </tr>\n",
       "    <tr>\n",
       "      <th>300</th>\n",
       "      <td>DNASE:K562</td>\n",
       "      <td>300</td>\n",
       "    </tr>\n",
       "    <tr>\n",
       "      <th>312</th>\n",
       "      <td>DNASE:K562 treated with sodium butyrate</td>\n",
       "      <td>312</td>\n",
       "    </tr>\n",
       "    <tr>\n",
       "      <th>439</th>\n",
       "      <td>DNASE:K562 G2 phase</td>\n",
       "      <td>439</td>\n",
       "    </tr>\n",
       "    <tr>\n",
       "      <th>505</th>\n",
       "      <td>DNASE:K562 G2 phase</td>\n",
       "      <td>505</td>\n",
       "    </tr>\n",
       "    <tr>\n",
       "      <th>514</th>\n",
       "      <td>DNASE:K562 treated with dimethyl sulfoxide</td>\n",
       "      <td>514</td>\n",
       "    </tr>\n",
       "    <tr>\n",
       "      <th>530</th>\n",
       "      <td>DNASE:K562</td>\n",
       "      <td>530</td>\n",
       "    </tr>\n",
       "    <tr>\n",
       "      <th>539</th>\n",
       "      <td>DNASE:K562 G2 phase</td>\n",
       "      <td>539</td>\n",
       "    </tr>\n",
       "    <tr>\n",
       "      <th>571</th>\n",
       "      <td>DNASE:K562 treated with vorinostat</td>\n",
       "      <td>571</td>\n",
       "    </tr>\n",
       "    <tr>\n",
       "      <th>3586</th>\n",
       "      <td>CAGE:chronic myelogenous leukemia cell line:K5...</td>\n",
       "      <td>3586</td>\n",
       "    </tr>\n",
       "    <tr>\n",
       "      <th>3587</th>\n",
       "      <td>CAGE:chronic myelogenous leukemia cell line:K5...</td>\n",
       "      <td>3587</td>\n",
       "    </tr>\n",
       "    <tr>\n",
       "      <th>3588</th>\n",
       "      <td>CAGE:chronic myelogenous leukemia cell line:K5...</td>\n",
       "      <td>3588</td>\n",
       "    </tr>\n",
       "    <tr>\n",
       "      <th>4226</th>\n",
       "      <td>CAGE:chronic myelogenous leukemia cell line:K562</td>\n",
       "      <td>4226</td>\n",
       "    </tr>\n",
       "  </tbody>\n",
       "</table>\n",
       "</div>"
      ],
      "text/plain": [
       "                                            description  index\n",
       "28                                  DNASE:K562 G1 phase     28\n",
       "38                                           DNASE:K562     38\n",
       "55                                           DNASE:K562     55\n",
       "146             DNASE:K562 treated with sodium butyrate    146\n",
       "177                                          DNASE:K562    177\n",
       "212                  DNASE:K562 treated with vorinostat    212\n",
       "225                  DNASE:K562 treated with vorinostat    225\n",
       "231          DNASE:K562 treated with dimethyl sulfoxide    231\n",
       "249                                 DNASE:K562 G1 phase    249\n",
       "279                                 DNASE:K562 G1 phase    279\n",
       "300                                          DNASE:K562    300\n",
       "312             DNASE:K562 treated with sodium butyrate    312\n",
       "439                                 DNASE:K562 G2 phase    439\n",
       "505                                 DNASE:K562 G2 phase    505\n",
       "514          DNASE:K562 treated with dimethyl sulfoxide    514\n",
       "530                                          DNASE:K562    530\n",
       "539                                 DNASE:K562 G2 phase    539\n",
       "571                  DNASE:K562 treated with vorinostat    571\n",
       "3586  CAGE:chronic myelogenous leukemia cell line:K5...   3586\n",
       "3587  CAGE:chronic myelogenous leukemia cell line:K5...   3587\n",
       "3588  CAGE:chronic myelogenous leukemia cell line:K5...   3588\n",
       "4226   CAGE:chronic myelogenous leukemia cell line:K562   4226"
      ]
     },
     "execution_count": 41,
     "metadata": {},
     "output_type": "execute_result"
    }
   ],
   "source": [
    "b1_cohen_tracks = b1_target_df.loc[\n",
    "    b1_target_df.description.str.contains(\"k562\", case=False)\n",
    "    & (b1_target_df.description.str.contains(\"cage\", case=False)\n",
    "      | b1_target_df.description.str.contains(\"dnase\", case=False))\n",
    "][[\"description\", \"index\"]]\n",
    "b1_cohen_tracks"
   ]
  },
  {
   "cell_type": "code",
   "execution_count": 42,
   "id": "9a801abe-85e5-40c0-ab20-429432746646",
   "metadata": {
    "tags": []
   },
   "outputs": [],
   "source": [
    "dedupe_tracks(b1_cohen_tracks)"
   ]
  },
  {
   "cell_type": "markdown",
   "id": "645df15f-54c0-479c-9166-1f114332be20",
   "metadata": {
    "tags": []
   },
   "source": [
    "<div class=\"alert alert-block alert-warning\">\n",
    "<b>Note:</b> Only activate following cell if you want to overwrite the old tracks!\n",
    "</div>"
   ]
  },
  {
   "cell_type": "code",
   "execution_count": 43,
   "id": "43a4d79e-4a31-40a5-b0c4-622fddc4f7e2",
   "metadata": {},
   "outputs": [],
   "source": [
    "b1_cohen_tracks.to_csv(\"Data/Cohen_genomic_environments/basenji1_cohen_tracks.yaml\",\n",
    "                             index=False, header=False, sep=\"\\t\")"
   ]
  },
  {
   "cell_type": "markdown",
   "id": "32131d00-6703-49b6-99ed-f2d156f8d70d",
   "metadata": {},
   "source": [
    "## Abramov Tracks"
   ]
  },
  {
   "cell_type": "code",
   "execution_count": 42,
   "id": "44feb7d5-92ee-41b3-a89b-6620cb0bc993",
   "metadata": {},
   "outputs": [],
   "source": [
    "with open(\"Data/Abramov_ASB/tf_list.txt\") as f:\n",
    "    tf_list = f.readlines()\n",
    "tf_list = list(map(str.rstrip, tf_list))"
   ]
  },
  {
   "cell_type": "code",
   "execution_count": 43,
   "id": "d23ab224-b364-4f48-adc4-d444816d7806",
   "metadata": {},
   "outputs": [],
   "source": [
    "assert len(tf_list) == len(set(tf_list))"
   ]
  },
  {
   "cell_type": "markdown",
   "id": "d1de3fba-43be-447f-a6a4-9490c08bd643",
   "metadata": {},
   "source": [
    "Construct a regex because `Series.str.contains` does not understand lists:"
   ]
  },
  {
   "cell_type": "code",
   "execution_count": 44,
   "id": "fb6f4372-fcad-423e-804f-d347bf5acbab",
   "metadata": {},
   "outputs": [],
   "source": [
    "tf_regex = \"|\".join(tf_list)"
   ]
  },
  {
   "cell_type": "code",
   "execution_count": 45,
   "id": "8c5501ed-2043-4a1a-aabe-222e7bb5748c",
   "metadata": {},
   "outputs": [
    {
     "data": {
      "text/html": [
       "<div>\n",
       "<style scoped>\n",
       "    .dataframe tbody tr th:only-of-type {\n",
       "        vertical-align: middle;\n",
       "    }\n",
       "\n",
       "    .dataframe tbody tr th {\n",
       "        vertical-align: top;\n",
       "    }\n",
       "\n",
       "    .dataframe thead th {\n",
       "        text-align: right;\n",
       "    }\n",
       "</style>\n",
       "<table border=\"1\" class=\"dataframe\">\n",
       "  <thead>\n",
       "    <tr style=\"text-align: right;\">\n",
       "      <th></th>\n",
       "      <th>description</th>\n",
       "      <th>index</th>\n",
       "    </tr>\n",
       "  </thead>\n",
       "  <tbody>\n",
       "    <tr>\n",
       "      <th>684</th>\n",
       "      <td>CHIP:CTCF:MCF-7</td>\n",
       "      <td>684</td>\n",
       "    </tr>\n",
       "    <tr>\n",
       "      <th>685</th>\n",
       "      <td>CHIP:TAF1:MCF-7</td>\n",
       "      <td>685</td>\n",
       "    </tr>\n",
       "    <tr>\n",
       "      <th>687</th>\n",
       "      <td>CHIP:CTCF:GM12878</td>\n",
       "      <td>687</td>\n",
       "    </tr>\n",
       "    <tr>\n",
       "      <th>697</th>\n",
       "      <td>CHIP:CTCF:K562</td>\n",
       "      <td>697</td>\n",
       "    </tr>\n",
       "    <tr>\n",
       "      <th>704</th>\n",
       "      <td>CHIP:CTCF:endothelial cell of umbilical vein m...</td>\n",
       "      <td>704</td>\n",
       "    </tr>\n",
       "    <tr>\n",
       "      <th>...</th>\n",
       "      <td>...</td>\n",
       "      <td>...</td>\n",
       "    </tr>\n",
       "    <tr>\n",
       "      <th>4662</th>\n",
       "      <td>CHIP:CLOCK:CLOCK_6AN_ChIPSeq / U2OS cells stab...</td>\n",
       "      <td>4662</td>\n",
       "    </tr>\n",
       "    <tr>\n",
       "      <th>4667</th>\n",
       "      <td>CHIP:abcam:ChIP_hBMAL1-peak-DMOG CHIP-Seq / U2...</td>\n",
       "      <td>4667</td>\n",
       "    </tr>\n",
       "    <tr>\n",
       "      <th>4668</th>\n",
       "      <td>CHIP:abcam:ChIP_hBMAL1-trough-DMOG CHIP-Seq / ...</td>\n",
       "      <td>4668</td>\n",
       "    </tr>\n",
       "    <tr>\n",
       "      <th>4669</th>\n",
       "      <td>CHIP:abcam:ChIP_hBMAL1-peak-DMSO CHIP-Seq / U2...</td>\n",
       "      <td>4669</td>\n",
       "    </tr>\n",
       "    <tr>\n",
       "      <th>4670</th>\n",
       "      <td>CHIP:abcam:ChIP_hBMAL1-trough-DMSO CHIP-Seq / ...</td>\n",
       "      <td>4670</td>\n",
       "    </tr>\n",
       "  </tbody>\n",
       "</table>\n",
       "<p>1425 rows × 2 columns</p>\n",
       "</div>"
      ],
      "text/plain": [
       "                                            description  index\n",
       "684                                     CHIP:CTCF:MCF-7    684\n",
       "685                                     CHIP:TAF1:MCF-7    685\n",
       "687                                   CHIP:CTCF:GM12878    687\n",
       "697                                      CHIP:CTCF:K562    697\n",
       "704   CHIP:CTCF:endothelial cell of umbilical vein m...    704\n",
       "...                                                 ...    ...\n",
       "4662  CHIP:CLOCK:CLOCK_6AN_ChIPSeq / U2OS cells stab...   4662\n",
       "4667  CHIP:abcam:ChIP_hBMAL1-peak-DMOG CHIP-Seq / U2...   4667\n",
       "4668  CHIP:abcam:ChIP_hBMAL1-trough-DMOG CHIP-Seq / ...   4668\n",
       "4669  CHIP:abcam:ChIP_hBMAL1-peak-DMSO CHIP-Seq / U2...   4669\n",
       "4670  CHIP:abcam:ChIP_hBMAL1-trough-DMSO CHIP-Seq / ...   4670\n",
       "\n",
       "[1425 rows x 2 columns]"
      ]
     },
     "execution_count": 45,
     "metadata": {},
     "output_type": "execute_result"
    }
   ],
   "source": [
    "abramov_tracks = target_df.loc[\n",
    "    target_df.description.str.contains(tf_regex, case=True) \n",
    "    & target_df.description.str.contains(\"CHIP\", case=False)\n",
    "][[\"description\", \"index\"]]\n",
    "abramov_tracks"
   ]
  },
  {
   "cell_type": "code",
   "execution_count": 46,
   "id": "3997776a-e202-475f-8424-e4fbc6bb5b92",
   "metadata": {},
   "outputs": [
    {
     "data": {
      "text/plain": [
       "238"
      ]
     },
     "execution_count": 46,
     "metadata": {},
     "output_type": "execute_result"
    }
   ],
   "source": [
    "abramov_dupes = abramov_tracks[\"description\"].duplicated(keep=False)\n",
    "abramov_dupes.sum()"
   ]
  },
  {
   "cell_type": "code",
   "execution_count": 47,
   "id": "87197c36-574d-4e80-83d4-f475e9a52aef",
   "metadata": {},
   "outputs": [],
   "source": [
    "abramov_dupe_descs = abramov_tracks[abramov_dupes][\"description\"].unique()"
   ]
  },
  {
   "cell_type": "code",
   "execution_count": 48,
   "id": "6cdc118b-d1f5-4d6a-8e20-202ce2529df4",
   "metadata": {},
   "outputs": [],
   "source": [
    "for dupe_desc in abramov_dupe_descs:\n",
    "    duped_idxs = abramov_tracks[abramov_tracks[\"description\"] == dupe_desc].index\n",
    "    i = 1\n",
    "    for idx in duped_idxs:\n",
    "        prev = abramov_tracks.at[idx, \"description\"]\n",
    "        abramov_tracks.at[idx, \"description\"] = prev + \"_\" + str(i)\n",
    "        i += 1"
   ]
  },
  {
   "cell_type": "code",
   "execution_count": 49,
   "id": "56a337c5-e327-4965-9b74-758a5dbf1cfc",
   "metadata": {},
   "outputs": [
    {
     "data": {
      "text/plain": [
       "0"
      ]
     },
     "execution_count": 49,
     "metadata": {},
     "output_type": "execute_result"
    }
   ],
   "source": [
    "abramov_tracks[\"description\"].duplicated(keep=False).sum()"
   ]
  },
  {
   "cell_type": "markdown",
   "id": "890770cf-19cf-4599-aebf-126b673ed1dc",
   "metadata": {},
   "source": [
    "<div class=\"alert alert-block alert-warning\">\n",
    "<b>Note:</b> Only activate following cell if you want to overwrite the old tracks!\n",
    "</div>"
   ]
  },
  {
   "cell_type": "raw",
   "id": "a34caea8-bd48-46c0-95d0-6f602033d810",
   "metadata": {},
   "source": [
    "abramov_tracks.to_csv(\"Data/Abramov_ASB/abramov_tracks.yaml\",\n",
    "                   index=False, header=False, sep=\"\\t\")"
   ]
  },
  {
   "cell_type": "markdown",
   "id": "7abfebca-b4ab-47d7-88a6-f37863ca8715",
   "metadata": {},
   "source": [
    "## Fulco Preprocessing Tracks"
   ]
  },
  {
   "cell_type": "code",
   "execution_count": 9,
   "id": "6feba207-b360-48d1-95b8-2f4843df869d",
   "metadata": {},
   "outputs": [
    {
     "data": {
      "text/html": [
       "<div>\n",
       "<style scoped>\n",
       "    .dataframe tbody tr th:only-of-type {\n",
       "        vertical-align: middle;\n",
       "    }\n",
       "\n",
       "    .dataframe tbody tr th {\n",
       "        vertical-align: top;\n",
       "    }\n",
       "\n",
       "    .dataframe thead th {\n",
       "        text-align: right;\n",
       "    }\n",
       "</style>\n",
       "<table border=\"1\" class=\"dataframe\">\n",
       "  <thead>\n",
       "    <tr style=\"text-align: right;\">\n",
       "      <th></th>\n",
       "      <th>description</th>\n",
       "      <th>index</th>\n",
       "    </tr>\n",
       "  </thead>\n",
       "  <tbody>\n",
       "    <tr>\n",
       "      <th>33</th>\n",
       "      <td>DNASE:K562 treated with 1 uM vorinostat for 72...</td>\n",
       "      <td>33</td>\n",
       "    </tr>\n",
       "    <tr>\n",
       "      <th>34</th>\n",
       "      <td>DNASE:K562 G2 phase</td>\n",
       "      <td>34</td>\n",
       "    </tr>\n",
       "    <tr>\n",
       "      <th>35</th>\n",
       "      <td>DNASE:K562 G1 phase</td>\n",
       "      <td>35</td>\n",
       "    </tr>\n",
       "    <tr>\n",
       "      <th>121</th>\n",
       "      <td>DNASE:K562</td>\n",
       "      <td>121</td>\n",
       "    </tr>\n",
       "    <tr>\n",
       "      <th>122</th>\n",
       "      <td>DNASE:K562</td>\n",
       "      <td>122</td>\n",
       "    </tr>\n",
       "    <tr>\n",
       "      <th>123</th>\n",
       "      <td>DNASE:K562</td>\n",
       "      <td>123</td>\n",
       "    </tr>\n",
       "    <tr>\n",
       "      <th>625</th>\n",
       "      <td>DNASE:K562</td>\n",
       "      <td>625</td>\n",
       "    </tr>\n",
       "    <tr>\n",
       "      <th>4828</th>\n",
       "      <td>CAGE:chronic myelogenous leukemia cell line:K562</td>\n",
       "      <td>4828</td>\n",
       "    </tr>\n",
       "    <tr>\n",
       "      <th>5111</th>\n",
       "      <td>CAGE:chronic myelogenous leukemia cell line:K5...</td>\n",
       "      <td>5111</td>\n",
       "    </tr>\n",
       "  </tbody>\n",
       "</table>\n",
       "</div>"
      ],
      "text/plain": [
       "                                            description  index\n",
       "33    DNASE:K562 treated with 1 uM vorinostat for 72...     33\n",
       "34                                  DNASE:K562 G2 phase     34\n",
       "35                                  DNASE:K562 G1 phase     35\n",
       "121                                          DNASE:K562    121\n",
       "122                                          DNASE:K562    122\n",
       "123                                          DNASE:K562    123\n",
       "625                                          DNASE:K562    625\n",
       "4828   CAGE:chronic myelogenous leukemia cell line:K562   4828\n",
       "5111  CAGE:chronic myelogenous leukemia cell line:K5...   5111"
      ]
     },
     "execution_count": 9,
     "metadata": {},
     "output_type": "execute_result"
    }
   ],
   "source": [
    "fulcopp_tracks = target_df.loc[\n",
    "    target_df.description.str.contains(\"K562\", case=False)\n",
    "    & (target_df.description.str.contains(\"CAGE\", case=False)\n",
    "    | target_df.description.str.contains(\"DNASE\", case=False))\n",
    "][[\"description\", \"index\"]]\n",
    "fulcopp_tracks"
   ]
  },
  {
   "cell_type": "code",
   "execution_count": 10,
   "id": "6862062f-bd7d-4477-9929-7d83189af049",
   "metadata": {},
   "outputs": [
    {
     "data": {
      "text/plain": [
       "4"
      ]
     },
     "execution_count": 10,
     "metadata": {},
     "output_type": "execute_result"
    }
   ],
   "source": [
    "fulcopp_dupes = fulcopp_tracks[\"description\"].duplicated(keep=False)\n",
    "fulcopp_dupes.sum()"
   ]
  },
  {
   "cell_type": "code",
   "execution_count": 11,
   "id": "9a512b2b-204f-41f9-9d13-c028fa913cdc",
   "metadata": {},
   "outputs": [],
   "source": [
    "fulcopp_dupe_descs = fulcopp_tracks[fulcopp_dupes][\"description\"].unique()"
   ]
  },
  {
   "cell_type": "code",
   "execution_count": 12,
   "id": "cf956363-30a7-4729-8f5b-a365a9e5e852",
   "metadata": {},
   "outputs": [],
   "source": [
    "for dupe_desc in fulcopp_dupe_descs:\n",
    "    duped_idxs = fulcopp_tracks[fulcopp_tracks[\"description\"] == dupe_desc].index\n",
    "    i = 1\n",
    "    for idx in duped_idxs:\n",
    "        prev = fulcopp_tracks.at[idx, \"description\"]\n",
    "        fulcopp_tracks.at[idx, \"description\"] = prev + \"_\" + str(i)\n",
    "        i += 1"
   ]
  },
  {
   "cell_type": "markdown",
   "id": "1c68a97e-fc75-4551-bd43-9f0d29941951",
   "metadata": {},
   "source": [
    "<div class=\"alert alert-block alert-warning\">\n",
    "<b>Note:</b> Only activate following cell if you want to overwrite the old tracks!\n",
    "</div>"
   ]
  },
  {
   "cell_type": "code",
   "execution_count": 14,
   "id": "b542e039-cfb1-48be-8e49-e1cd390eca07",
   "metadata": {},
   "outputs": [],
   "source": [
    "fulcopp_tracks.to_csv(\"Data/Fulco_CRISPRi/preprocessing_tracks.yaml\",\n",
    "                      index=False, header=False, sep=\"\\t\")"
   ]
  },
  {
   "cell_type": "markdown",
   "id": "a7f4985b-6576-4131-9f1a-91bc9f50c2ce",
   "metadata": {},
   "source": [
    "## Sahu Tracks"
   ]
  },
  {
   "cell_type": "code",
   "execution_count": 4,
   "id": "0b520c9a-39e2-441d-9fa8-bd225c252a65",
   "metadata": {},
   "outputs": [
    {
     "data": {
      "text/html": [
       "<div>\n",
       "<style scoped>\n",
       "    .dataframe tbody tr th:only-of-type {\n",
       "        vertical-align: middle;\n",
       "    }\n",
       "\n",
       "    .dataframe tbody tr th {\n",
       "        vertical-align: top;\n",
       "    }\n",
       "\n",
       "    .dataframe thead th {\n",
       "        text-align: right;\n",
       "    }\n",
       "</style>\n",
       "<table border=\"1\" class=\"dataframe\">\n",
       "  <thead>\n",
       "    <tr style=\"text-align: right;\">\n",
       "      <th></th>\n",
       "      <th>description</th>\n",
       "      <th>index</th>\n",
       "    </tr>\n",
       "  </thead>\n",
       "  <tbody>\n",
       "    <tr>\n",
       "      <th>33</th>\n",
       "      <td>DNASE:K562 treated with 1 uM vorinostat for 72...</td>\n",
       "      <td>33</td>\n",
       "    </tr>\n",
       "    <tr>\n",
       "      <th>34</th>\n",
       "      <td>DNASE:K562 G2 phase</td>\n",
       "      <td>34</td>\n",
       "    </tr>\n",
       "    <tr>\n",
       "      <th>35</th>\n",
       "      <td>DNASE:K562 G1 phase</td>\n",
       "      <td>35</td>\n",
       "    </tr>\n",
       "    <tr>\n",
       "      <th>121</th>\n",
       "      <td>DNASE:K562</td>\n",
       "      <td>121</td>\n",
       "    </tr>\n",
       "    <tr>\n",
       "      <th>122</th>\n",
       "      <td>DNASE:K562</td>\n",
       "      <td>122</td>\n",
       "    </tr>\n",
       "    <tr>\n",
       "      <th>...</th>\n",
       "      <td>...</td>\n",
       "      <td>...</td>\n",
       "    </tr>\n",
       "    <tr>\n",
       "      <th>4828</th>\n",
       "      <td>CAGE:chronic myelogenous leukemia cell line:K562</td>\n",
       "      <td>4828</td>\n",
       "    </tr>\n",
       "    <tr>\n",
       "      <th>4856</th>\n",
       "      <td>CAGE:colon carcinoma cell line:CACO-2</td>\n",
       "      <td>4856</td>\n",
       "    </tr>\n",
       "    <tr>\n",
       "      <th>4966</th>\n",
       "      <td>CAGE:colon, fetal,</td>\n",
       "      <td>4966</td>\n",
       "    </tr>\n",
       "    <tr>\n",
       "      <th>4978</th>\n",
       "      <td>CAGE:colon, adult,</td>\n",
       "      <td>4978</td>\n",
       "    </tr>\n",
       "    <tr>\n",
       "      <th>5111</th>\n",
       "      <td>CAGE:chronic myelogenous leukemia cell line:K5...</td>\n",
       "      <td>5111</td>\n",
       "    </tr>\n",
       "  </tbody>\n",
       "</table>\n",
       "<p>4013 rows × 2 columns</p>\n",
       "</div>"
      ],
      "text/plain": [
       "                                            description  index\n",
       "33    DNASE:K562 treated with 1 uM vorinostat for 72...     33\n",
       "34                                  DNASE:K562 G2 phase     34\n",
       "35                                  DNASE:K562 G1 phase     35\n",
       "121                                          DNASE:K562    121\n",
       "122                                          DNASE:K562    122\n",
       "...                                                 ...    ...\n",
       "4828   CAGE:chronic myelogenous leukemia cell line:K562   4828\n",
       "4856              CAGE:colon carcinoma cell line:CACO-2   4856\n",
       "4966                                 CAGE:colon, fetal,   4966\n",
       "4978                                 CAGE:colon, adult,   4978\n",
       "5111  CAGE:chronic myelogenous leukemia cell line:K5...   5111\n",
       "\n",
       "[4013 rows x 2 columns]"
      ]
     },
     "execution_count": 4,
     "metadata": {},
     "output_type": "execute_result"
    }
   ],
   "source": [
    "sahu_tracks = target_df.loc[\n",
    "    ((target_df.description.str.contains(\"CAGE\", case=False) | target_df.description.str.contains(\"DNASE\", case=False))\n",
    "    & (target_df.description.str.contains(\"K562\", case=False) | target_df.description.str.contains(\"colon\", case=False)))\n",
    "    | (target_df.description.str.contains(\"CHIP\", case=False)) \n",
    "][[\"description\", \"index\"]]\n",
    "sahu_tracks"
   ]
  },
  {
   "cell_type": "code",
   "execution_count": 5,
   "id": "9dc14654-be32-4610-89fb-8302414cbad0",
   "metadata": {},
   "outputs": [
    {
     "data": {
      "text/plain": [
       "566"
      ]
     },
     "execution_count": 5,
     "metadata": {},
     "output_type": "execute_result"
    }
   ],
   "source": [
    "sahu_dupes = sahu_tracks[\"description\"].duplicated(keep=False)\n",
    "sahu_dupes.sum()"
   ]
  },
  {
   "cell_type": "code",
   "execution_count": 6,
   "id": "346b0b4a-930a-408a-95ef-909a9652c2e5",
   "metadata": {},
   "outputs": [],
   "source": [
    "sahu_dupe_descs = sahu_tracks[sahu_dupes][\"description\"].unique()"
   ]
  },
  {
   "cell_type": "code",
   "execution_count": 7,
   "id": "5d9024f0-26b6-43aa-ad67-f8ec6fd8b80c",
   "metadata": {},
   "outputs": [],
   "source": [
    "for dupe_desc in sahu_dupe_descs:\n",
    "    duped_idxs = sahu_tracks[sahu_tracks[\"description\"] == dupe_desc].index\n",
    "    i = 1\n",
    "    for idx in duped_idxs:\n",
    "        prev = sahu_tracks.at[idx, \"description\"]\n",
    "        sahu_tracks.at[idx, \"description\"] = prev + \"_\" + str(i)\n",
    "        i += 1"
   ]
  },
  {
   "cell_type": "markdown",
   "id": "cc63b1be-30be-43ac-abb1-379db627fd11",
   "metadata": {},
   "source": [
    "<div class=\"alert alert-block alert-warning\">\n",
    "<b>Note:</b> Only activate following cell if you want to overwrite the old tracks!\n",
    "</div>"
   ]
  },
  {
   "cell_type": "code",
   "execution_count": 8,
   "id": "53ecc00a-6ec8-49f5-a35f-c699d3a6877f",
   "metadata": {},
   "outputs": [],
   "source": [
    "sahu_tracks.to_csv(\"Data/Sahu_enhancers/sahu_tracks.yaml\",\n",
    "                      index=False, header=False, sep=\"\\t\")"
   ]
  },
  {
   "cell_type": "markdown",
   "id": "a4a233fb-4d52-41da-8f37-d191daac3761",
   "metadata": {},
   "source": [
    "## All Tracks (avsec_enhancercentered)"
   ]
  },
  {
   "cell_type": "markdown",
   "id": "91902184-8ddf-47e5-8259-01a202570cfb",
   "metadata": {},
   "source": [
    "### Enformer"
   ]
  },
  {
   "cell_type": "code",
   "execution_count": 39,
   "id": "587a1c69-3eec-4f71-8f74-ba3e1707e136",
   "metadata": {},
   "outputs": [
    {
     "data": {
      "text/html": [
       "<div>\n",
       "<style scoped>\n",
       "    .dataframe tbody tr th:only-of-type {\n",
       "        vertical-align: middle;\n",
       "    }\n",
       "\n",
       "    .dataframe tbody tr th {\n",
       "        vertical-align: top;\n",
       "    }\n",
       "\n",
       "    .dataframe thead th {\n",
       "        text-align: right;\n",
       "    }\n",
       "</style>\n",
       "<table border=\"1\" class=\"dataframe\">\n",
       "  <thead>\n",
       "    <tr style=\"text-align: right;\">\n",
       "      <th></th>\n",
       "      <th>description</th>\n",
       "      <th>index</th>\n",
       "    </tr>\n",
       "  </thead>\n",
       "  <tbody>\n",
       "    <tr>\n",
       "      <th>0</th>\n",
       "      <td>DNASE:cerebellum male adult (27 years) and mal...</td>\n",
       "      <td>0</td>\n",
       "    </tr>\n",
       "    <tr>\n",
       "      <th>1</th>\n",
       "      <td>DNASE:frontal cortex male adult (27 years) and...</td>\n",
       "      <td>1</td>\n",
       "    </tr>\n",
       "    <tr>\n",
       "      <th>2</th>\n",
       "      <td>DNASE:chorion</td>\n",
       "      <td>2</td>\n",
       "    </tr>\n",
       "    <tr>\n",
       "      <th>3</th>\n",
       "      <td>DNASE:Ishikawa treated with 0.02% dimethyl sul...</td>\n",
       "      <td>3</td>\n",
       "    </tr>\n",
       "    <tr>\n",
       "      <th>4</th>\n",
       "      <td>DNASE:GM03348</td>\n",
       "      <td>4</td>\n",
       "    </tr>\n",
       "    <tr>\n",
       "      <th>...</th>\n",
       "      <td>...</td>\n",
       "      <td>...</td>\n",
       "    </tr>\n",
       "    <tr>\n",
       "      <th>5308</th>\n",
       "      <td>CAGE:epithelioid sarcoma cell line:HS-ES-2R</td>\n",
       "      <td>5308</td>\n",
       "    </tr>\n",
       "    <tr>\n",
       "      <th>5309</th>\n",
       "      <td>CAGE:squamous cell lung carcinoma cell line:RE...</td>\n",
       "      <td>5309</td>\n",
       "    </tr>\n",
       "    <tr>\n",
       "      <th>5310</th>\n",
       "      <td>CAGE:gastric cancer cell line:GSS</td>\n",
       "      <td>5310</td>\n",
       "    </tr>\n",
       "    <tr>\n",
       "      <th>5311</th>\n",
       "      <td>CAGE:carcinoid cell line:NCI-H727</td>\n",
       "      <td>5311</td>\n",
       "    </tr>\n",
       "    <tr>\n",
       "      <th>5312</th>\n",
       "      <td>CAGE:lung adenocarcinoma, papillary cell line:...</td>\n",
       "      <td>5312</td>\n",
       "    </tr>\n",
       "  </tbody>\n",
       "</table>\n",
       "<p>5313 rows × 2 columns</p>\n",
       "</div>"
      ],
      "text/plain": [
       "                                            description  index\n",
       "0     DNASE:cerebellum male adult (27 years) and mal...      0\n",
       "1     DNASE:frontal cortex male adult (27 years) and...      1\n",
       "2                                         DNASE:chorion      2\n",
       "3     DNASE:Ishikawa treated with 0.02% dimethyl sul...      3\n",
       "4                                         DNASE:GM03348      4\n",
       "...                                                 ...    ...\n",
       "5308        CAGE:epithelioid sarcoma cell line:HS-ES-2R   5308\n",
       "5309  CAGE:squamous cell lung carcinoma cell line:RE...   5309\n",
       "5310                  CAGE:gastric cancer cell line:GSS   5310\n",
       "5311                  CAGE:carcinoid cell line:NCI-H727   5311\n",
       "5312  CAGE:lung adenocarcinoma, papillary cell line:...   5312\n",
       "\n",
       "[5313 rows x 2 columns]"
      ]
     },
     "execution_count": 39,
     "metadata": {},
     "output_type": "execute_result"
    }
   ],
   "source": [
    "alltracks = target_df[[\"description\", \"index\"]]\n",
    "alltracks"
   ]
  },
  {
   "cell_type": "code",
   "execution_count": 40,
   "id": "f24f6c4b-00f4-471e-a67c-f327747faf7a",
   "metadata": {},
   "outputs": [],
   "source": [
    "dedupe_tracks(alltracks)"
   ]
  },
  {
   "cell_type": "markdown",
   "id": "f18276e0-3b58-4fdf-a259-a084cecc3654",
   "metadata": {},
   "source": [
    "<div class=\"alert alert-block alert-warning\">\n",
    "<b>Note:</b> Only activate following cell if you want to overwrite the old tracks!\n",
    "</div>"
   ]
  },
  {
   "cell_type": "code",
   "execution_count": 42,
   "id": "e3b83ca0-c895-44ae-9a14-6d7bceb4da8e",
   "metadata": {},
   "outputs": [],
   "source": [
    "alltracks.to_csv(\"Data/Tracks/all_tracks_deduped.yaml\",\n",
    "                      index=False, header=False, sep=\"\\t\")"
   ]
  }
 ],
 "metadata": {
  "jupytext": {
   "formats": "ipynb,py:percent"
  },
  "kernelspec": {
   "display_name": "Python [conda env:anaconda-karollus-tfhub]",
   "language": "python",
   "name": "conda-env-anaconda-karollus-tfhub-py"
  },
  "language_info": {
   "codemirror_mode": {
    "name": "ipython",
    "version": 3
   },
   "file_extension": ".py",
   "mimetype": "text/x-python",
   "name": "python",
   "nbconvert_exporter": "python",
   "pygments_lexer": "ipython3",
   "version": "3.9.7"
  }
 },
 "nbformat": 4,
 "nbformat_minor": 5
}
